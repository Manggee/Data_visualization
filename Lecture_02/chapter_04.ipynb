{
 "cells": [
  {
   "metadata": {},
   "cell_type": "markdown",
   "source": "### Chapter 04. 반복과 선택",
   "id": "7e7ff83cea55fc7e"
  },
  {
   "metadata": {},
   "cell_type": "markdown",
   "source": "#### - for 반복문",
   "id": "ff5d15a2938937d2"
  },
  {
   "cell_type": "code",
   "id": "initial_id",
   "metadata": {
    "collapsed": true,
    "ExecuteTime": {
     "end_time": "2025-03-14T03:08:42.439941Z",
     "start_time": "2025-03-14T03:08:42.436858Z"
    }
   },
   "source": [
    "for num in range(0, 14, 1): # (시작 숫자, 끝 숫자, 간격), 끝 숫자는 미만으로 해석함.\n",
    "    print('실행 회차: ', num)"
   ],
   "outputs": [
    {
     "name": "stdout",
     "output_type": "stream",
     "text": [
      "실행 회차:  0\n",
      "실행 회차:  1\n",
      "실행 회차:  2\n",
      "실행 회차:  3\n",
      "실행 회차:  4\n",
      "실행 회차:  5\n",
      "실행 회차:  6\n",
      "실행 회차:  7\n",
      "실행 회차:  8\n",
      "실행 회차:  9\n",
      "실행 회차:  10\n",
      "실행 회차:  11\n",
      "실행 회차:  12\n",
      "실행 회차:  13\n"
     ]
    }
   ],
   "execution_count": 4
  },
  {
   "metadata": {
    "ExecuteTime": {
     "end_time": "2025-03-14T03:10:16.732727Z",
     "start_time": "2025-03-14T03:10:16.729552Z"
    }
   },
   "cell_type": "code",
   "source": [
    "for score in (80, 90, 100):\n",
    "    print('점수: ', score)"
   ],
   "id": "4cab465da591f88",
   "outputs": [
    {
     "name": "stdout",
     "output_type": "stream",
     "text": [
      "점수:  80\n",
      "점수:  90\n",
      "점수:  100\n"
     ]
    }
   ],
   "execution_count": 13
  },
  {
   "metadata": {
    "ExecuteTime": {
     "end_time": "2025-03-14T03:13:46.715650Z",
     "start_time": "2025-03-14T03:13:46.712814Z"
    }
   },
   "cell_type": "code",
   "source": [
    "for fruits in ('사과', '키위', '복숭아', '딸기'):\n",
    "    print('어떤 과일 먹을까 -> ', fruits)"
   ],
   "id": "27daf9271f87ebb4",
   "outputs": [
    {
     "name": "stdout",
     "output_type": "stream",
     "text": [
      "어떤 과일 먹을까 ->  사과\n",
      "어떤 과일 먹을까 ->  키위\n",
      "어떤 과일 먹을까 ->  복숭아\n",
      "어떤 과일 먹을까 ->  딸기\n"
     ]
    }
   ],
   "execution_count": 15
  },
  {
   "metadata": {},
   "cell_type": "markdown",
   "source": "#### - if 조건문",
   "id": "107b08a9369a40a1"
  },
  {
   "metadata": {
    "ExecuteTime": {
     "end_time": "2025-03-14T03:15:27.308648Z",
     "start_time": "2025-03-14T03:15:27.305702Z"
    }
   },
   "cell_type": "code",
   "source": [
    "if (3<14):\n",
    "    print('참일걸요')"
   ],
   "id": "4bd27f4219c3ca6d",
   "outputs": [
    {
     "name": "stdout",
     "output_type": "stream",
     "text": [
      "참일걸요\n"
     ]
    }
   ],
   "execution_count": 16
  },
  {
   "metadata": {},
   "cell_type": "code",
   "outputs": [],
   "execution_count": null,
   "source": "",
   "id": "ffffe25ca9069923"
  }
 ],
 "metadata": {
  "kernelspec": {
   "display_name": "Python 3",
   "language": "python",
   "name": "python3"
  },
  "language_info": {
   "codemirror_mode": {
    "name": "ipython",
    "version": 2
   },
   "file_extension": ".py",
   "mimetype": "text/x-python",
   "name": "python",
   "nbconvert_exporter": "python",
   "pygments_lexer": "ipython2",
   "version": "2.7.6"
  }
 },
 "nbformat": 4,
 "nbformat_minor": 5
}
