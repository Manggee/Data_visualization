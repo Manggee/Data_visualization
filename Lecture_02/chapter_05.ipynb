{
 "cells": [
  {
   "metadata": {},
   "cell_type": "markdown",
   "source": "### Chapter 05. 순서가 있는 저장 공간 리스트",
   "id": "f67d4298ddc3decd"
  },
  {
   "cell_type": "code",
   "id": "initial_id",
   "metadata": {
    "collapsed": true,
    "ExecuteTime": {
     "end_time": "2025-03-14T03:22:09.221574Z",
     "start_time": "2025-03-14T03:22:09.218957Z"
    }
   },
   "source": [
    "# list (리스트) 자료형\n",
    "# 변수: 값을 하나만 저장\n",
    "# 리스트: 값이 여러개인 경우 리스트 형태로 저장\n",
    "\n",
    "arr = [5,6,7,8,9]\n",
    "print(type(arr))\n",
    "print(arr)"
   ],
   "outputs": [
    {
     "name": "stdout",
     "output_type": "stream",
     "text": [
      "<class 'list'>\n",
      "[5, 6, 7, 8, 9]\n"
     ]
    }
   ],
   "execution_count": 11
  },
  {
   "metadata": {
    "ExecuteTime": {
     "end_time": "2025-03-14T03:22:12.124042Z",
     "start_time": "2025-03-14T03:22:12.120713Z"
    }
   },
   "cell_type": "code",
   "source": [
    "# 문자도 리스트에 저장 가능\n",
    "arr_str = ['월', '화', '수', '목', '금']\n",
    "print(type(arr_str))\n",
    "print(arr_str)"
   ],
   "id": "6f9a825bd2ab4e71",
   "outputs": [
    {
     "name": "stdout",
     "output_type": "stream",
     "text": [
      "<class 'list'>\n",
      "['월', '화', '수', '목', '금']\n"
     ]
    }
   ],
   "execution_count": 12
  },
  {
   "metadata": {
    "ExecuteTime": {
     "end_time": "2025-03-14T03:22:14.690185Z",
     "start_time": "2025-03-14T03:22:14.686506Z"
    }
   },
   "cell_type": "code",
   "source": [
    "arr_str.append(10) # append: list에 값을 덧붙이는 기능\n",
    "print(arr_str)"
   ],
   "id": "f3ac6d0e43595460",
   "outputs": [
    {
     "name": "stdout",
     "output_type": "stream",
     "text": [
      "['월', '화', '수', '목', '금', 10]\n"
     ]
    }
   ],
   "execution_count": 13
  },
  {
   "metadata": {},
   "cell_type": "markdown",
   "source": [
    "#### 값을 추출하기\n",
    "1. indexing\n",
    "2. slicing"
   ],
   "id": "5ebbc6ec49f662e"
  },
  {
   "metadata": {
    "ExecuteTime": {
     "end_time": "2025-03-14T03:28:46.308079Z",
     "start_time": "2025-03-14T03:28:46.304983Z"
    }
   },
   "cell_type": "code",
   "source": [
    "# indexing\n",
    "print(arr_str[0])\n",
    "print(arr_str[-1])\n",
    "print(arr_str[-2])\n",
    "print(type(arr_str[0])) # 자료형: string"
   ],
   "id": "22bb29ca1b3acbec",
   "outputs": [
    {
     "name": "stdout",
     "output_type": "stream",
     "text": [
      "월\n",
      "10\n",
      "금\n",
      "<class 'str'>\n"
     ]
    }
   ],
   "execution_count": 24
  },
  {
   "metadata": {
    "ExecuteTime": {
     "end_time": "2025-03-14T03:29:43.461097Z",
     "start_time": "2025-03-14T03:29:43.457628Z"
    }
   },
   "cell_type": "code",
   "source": [
    "# slicing\n",
    "print(arr_str[0:2])\n",
    "print(arr_str[:])\n",
    "print(arr_str[2:])\n",
    "print(arr_str[:3])\n",
    "print(arr_str[2:3])\n",
    "print(type(arr_str[2:4])) # 자료형: list"
   ],
   "id": "669ac7b1f09d5664",
   "outputs": [
    {
     "name": "stdout",
     "output_type": "stream",
     "text": [
      "['월', '화']\n",
      "['월', '화', '수', '목', '금', 10]\n",
      "['수', '목', '금', 10]\n",
      "['월', '화', '수']\n",
      "['수']\n",
      "<class 'list'>\n"
     ]
    }
   ],
   "execution_count": 29
  },
  {
   "metadata": {
    "ExecuteTime": {
     "end_time": "2025-03-14T03:32:31.387595Z",
     "start_time": "2025-03-14T03:32:31.384756Z"
    }
   },
   "cell_type": "code",
   "source": [
    "# len: 원소의 갯수 카운팅\n",
    "len(arr_str)"
   ],
   "id": "e8252c0186bf97cd",
   "outputs": [
    {
     "data": {
      "text/plain": [
       "6"
      ]
     },
     "execution_count": 33,
     "metadata": {},
     "output_type": "execute_result"
    }
   ],
   "execution_count": 33
  },
  {
   "metadata": {
    "ExecuteTime": {
     "end_time": "2025-03-14T03:32:55.265045Z",
     "start_time": "2025-03-14T03:32:55.262054Z"
    }
   },
   "cell_type": "code",
   "source": [
    "arr_str.extend('안녕하신가?')\n",
    "print(arr_str)"
   ],
   "id": "a832f375b21583ad",
   "outputs": [
    {
     "name": "stdout",
     "output_type": "stream",
     "text": [
      "['월', '화', '수', '목', '금', 10, '안', '녕', '하', '신', '가', '?', '안', '녕', '하', '신', '가', '?']\n"
     ]
    }
   ],
   "execution_count": 35
  },
  {
   "metadata": {},
   "cell_type": "code",
   "outputs": [],
   "execution_count": null,
   "source": "",
   "id": "b92ca0919252dabb"
  }
 ],
 "metadata": {
  "kernelspec": {
   "display_name": "Python 3",
   "language": "python",
   "name": "python3"
  },
  "language_info": {
   "codemirror_mode": {
    "name": "ipython",
    "version": 2
   },
   "file_extension": ".py",
   "mimetype": "text/x-python",
   "name": "python",
   "nbconvert_exporter": "python",
   "pygments_lexer": "ipython2",
   "version": "2.7.6"
  }
 },
 "nbformat": 4,
 "nbformat_minor": 5
}
