{
 "cells": [
  {
   "metadata": {},
   "cell_type": "markdown",
   "source": "### Chapter 01. 출력과 입력 그리고 변수",
   "id": "755dd2dbc2f6999f"
  },
  {
   "metadata": {
    "ExecuteTime": {
     "end_time": "2025-03-14T01:44:01.966800Z",
     "start_time": "2025-03-14T01:44:01.963271Z"
    }
   },
   "cell_type": "code",
   "source": "print('hi')",
   "id": "cc7a1ef838365918",
   "outputs": [
    {
     "name": "stdout",
     "output_type": "stream",
     "text": [
      "hi\n"
     ]
    }
   ],
   "execution_count": 13
  },
  {
   "metadata": {
    "ExecuteTime": {
     "end_time": "2025-03-14T02:35:32.474Z",
     "start_time": "2025-03-14T02:35:32.471702Z"
    }
   },
   "cell_type": "code",
   "source": [
    "b = \"반갑습니다\"\n",
    "print(b + \" 잘 부탁드립니다!\") \n",
    "# 문자열 사이에는 + 연산자가 정의되어 있음\n",
    "# 문자열 A와 문자열 B를 이어주는 형태로 정의되어 있음"
   ],
   "id": "d7f2dcfe1cfe480",
   "outputs": [
    {
     "name": "stdout",
     "output_type": "stream",
     "text": [
      "반갑습니다 잘 부탁드립니다!\n"
     ]
    }
   ],
   "execution_count": 1
  },
  {
   "metadata": {
    "ExecuteTime": {
     "end_time": "2025-03-14T02:35:41.081665Z",
     "start_time": "2025-03-14T02:35:35.402455Z"
    }
   },
   "cell_type": "code",
   "source": "input('당신의 이름을 입력해주세요: ')",
   "id": "a793fcfd441d52e9",
   "outputs": [
    {
     "data": {
      "text/plain": [
       "'김망지'"
      ]
     },
     "execution_count": 2,
     "metadata": {},
     "output_type": "execute_result"
    }
   ],
   "execution_count": 2
  },
  {
   "metadata": {},
   "cell_type": "code",
   "outputs": [],
   "execution_count": null,
   "source": "",
   "id": "1d9d9c3017ff1dbe"
  }
 ],
 "metadata": {
  "kernelspec": {
   "display_name": "Python 3",
   "language": "python",
   "name": "python3"
  },
  "language_info": {
   "codemirror_mode": {
    "name": "ipython",
    "version": 2
   },
   "file_extension": ".py",
   "mimetype": "text/x-python",
   "name": "python",
   "nbconvert_exporter": "python",
   "pygments_lexer": "ipython2",
   "version": "2.7.6"
  }
 },
 "nbformat": 4,
 "nbformat_minor": 5
}
