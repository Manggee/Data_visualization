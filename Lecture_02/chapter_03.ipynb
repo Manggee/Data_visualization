{
 "cells": [
  {
   "metadata": {},
   "cell_type": "markdown",
   "source": "### Chapter 03. 함수 불러오기",
   "id": "8f6cb75ddd9a48ec"
  },
  {
   "metadata": {
    "ExecuteTime": {
     "end_time": "2025-03-14T02:40:52.953502Z",
     "start_time": "2025-03-14T02:40:52.951235Z"
    }
   },
   "cell_type": "code",
   "source": [
    "# random 라이브러리\n",
    "# math, matplotlib, seaborn, numpy, pandas ...\n",
    "\n",
    "import random\n",
    "\n",
    "random.randint(1,45) # random integer: 랜덤의 정수를 뽑아낸다. 시작과 끝 숫자를 정해줘야 한다.\n",
    "print(random.randint(1,45))"
   ],
   "id": "4f12b623f627cbe",
   "outputs": [
    {
     "name": "stdout",
     "output_type": "stream",
     "text": [
      "21\n"
     ]
    }
   ],
   "execution_count": 5
  },
  {
   "metadata": {
    "ExecuteTime": {
     "end_time": "2025-03-14T02:42:34.586037Z",
     "start_time": "2025-03-14T02:42:34.582627Z"
    }
   },
   "cell_type": "code",
   "source": [
    "import math\n",
    "\n",
    "print(math.sqrt(2)) # squared root: 제곱근\n",
    "print(math.sqrt(4))"
   ],
   "id": "a9ce67c67f88d503",
   "outputs": [
    {
     "name": "stdout",
     "output_type": "stream",
     "text": [
      "1.4142135623730951\n",
      "2.0\n"
     ]
    }
   ],
   "execution_count": 7
  },
  {
   "metadata": {},
   "cell_type": "code",
   "outputs": [],
   "execution_count": null,
   "source": "",
   "id": "9db062e4714b01fa"
  }
 ],
 "metadata": {
  "kernelspec": {
   "display_name": "Python 3",
   "language": "python",
   "name": "python3"
  },
  "language_info": {
   "codemirror_mode": {
    "name": "ipython",
    "version": 2
   },
   "file_extension": ".py",
   "mimetype": "text/x-python",
   "name": "python",
   "nbconvert_exporter": "python",
   "pygments_lexer": "ipython2",
   "version": "2.7.6"
  }
 },
 "nbformat": 4,
 "nbformat_minor": 5
}
