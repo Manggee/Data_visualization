{
 "cells": [
  {
   "metadata": {},
   "cell_type": "markdown",
   "source": "### Chapter 02. 서울에서 가장 더웠던 날은 언제였을까?",
   "id": "238e134e4670cda9"
  },
  {
   "cell_type": "code",
   "id": "initial_id",
   "metadata": {
    "collapsed": true,
    "ExecuteTime": {
     "end_time": "2025-03-21T02:09:36.615680Z",
     "start_time": "2025-03-21T02:09:36.588993Z"
    }
   },
   "source": [
    "import csv\n",
    "\n",
    "\n",
    "max_temp = -999\n",
    "max_date = ''\n",
    "\n",
    "f = open('seoul.csv', 'r', encoding='cp949')\n",
    "data = csv.reader(f)\n",
    "header = next(data)\n",
    "print(header[4])\n",
    "\n",
    "for row in data:\n",
    "\n",
    "    # 결측치를 처리하는 방법\n",
    "    # 1. 대체(Imputation)\n",
    "    # 2. 제거(Delete)\n",
    "    if row[4] == '':\n",
    "        row[4] = -999\n",
    "        \n",
    "    row[4] = float(row[4]) # type을 문자열에서 실수로 변환\n",
    "    if max_temp < row[4]:\n",
    "        max_date = row[0]\n",
    "        max_temp = row[4]\n",
    "        \n",
    "print(max_date, max_temp)\n",
    "f.close()"
   ],
   "outputs": [
    {
     "name": "stdout",
     "output_type": "stream",
     "text": [
      "최고기온(℃)\n",
      "\t2018-08-01 39.6\n"
     ]
    }
   ],
   "execution_count": 24
  }
 ],
 "metadata": {
  "kernelspec": {
   "display_name": "Python 3",
   "language": "python",
   "name": "python3"
  },
  "language_info": {
   "codemirror_mode": {
    "name": "ipython",
    "version": 2
   },
   "file_extension": ".py",
   "mimetype": "text/x-python",
   "name": "python",
   "nbconvert_exporter": "python",
   "pygments_lexer": "ipython2",
   "version": "2.7.6"
  }
 },
 "nbformat": 4,
 "nbformat_minor": 5
}
