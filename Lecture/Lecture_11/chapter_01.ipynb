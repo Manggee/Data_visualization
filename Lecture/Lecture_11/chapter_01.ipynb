{
 "cells": [
  {
   "cell_type": "markdown",
   "id": "3e172f1b-7be0-42cd-82ad-550a5d73ff4c",
   "metadata": {},
   "source": [
    "### **Chapter 02. seaborn 라이브러리**"
   ]
  },
  {
   "cell_type": "code",
   "id": "9b971f15-cfdd-4b40-bad0-6ed44699d9d8",
   "metadata": {
    "ExecuteTime": {
     "end_time": "2025-06-12T13:48:03.440044Z",
     "start_time": "2025-06-12T13:48:03.290159Z"
    }
   },
   "source": [
    "import pandas as pd\n",
    "\n",
    "df = pd.read_excel(\"health_screenings.xlsx\")\n",
    "df.head(3)"
   ],
   "outputs": [
    {
     "data": {
      "text/plain": [
       "   year  city_code  gender  age_code  height  weight  waist  eye_left  \\\n",
       "0  2020         36       1         9     165      60   72.1       1.2   \n",
       "1  2020         27       2        13     150      65   81.0       0.8   \n",
       "2  2020         11       2        12     155      55   70.0       0.6   \n",
       "\n",
       "   eye_right  hear_left  ...  serum   AST   ALT   GTP  smoking  drinking  \\\n",
       "0        1.5          1  ...    1.1  21.0  27.0  21.0        1         0   \n",
       "1        0.8          1  ...    0.5  18.0  15.0  15.0        1         0   \n",
       "2        0.7          1  ...    0.7  27.0  25.0   7.0        1         0   \n",
       "\n",
       "   oral_check  dental_caries  tartar  open_date  \n",
       "0           0            NaN     NaN 2021-12-29  \n",
       "1           0            NaN     NaN 2021-12-29  \n",
       "2           0            NaN     NaN 2021-12-29  \n",
       "\n",
       "[3 rows x 30 columns]"
      ],
      "text/html": [
       "<div>\n",
       "<style scoped>\n",
       "    .dataframe tbody tr th:only-of-type {\n",
       "        vertical-align: middle;\n",
       "    }\n",
       "\n",
       "    .dataframe tbody tr th {\n",
       "        vertical-align: top;\n",
       "    }\n",
       "\n",
       "    .dataframe thead th {\n",
       "        text-align: right;\n",
       "    }\n",
       "</style>\n",
       "<table border=\"1\" class=\"dataframe\">\n",
       "  <thead>\n",
       "    <tr style=\"text-align: right;\">\n",
       "      <th></th>\n",
       "      <th>year</th>\n",
       "      <th>city_code</th>\n",
       "      <th>gender</th>\n",
       "      <th>age_code</th>\n",
       "      <th>height</th>\n",
       "      <th>weight</th>\n",
       "      <th>waist</th>\n",
       "      <th>eye_left</th>\n",
       "      <th>eye_right</th>\n",
       "      <th>hear_left</th>\n",
       "      <th>...</th>\n",
       "      <th>serum</th>\n",
       "      <th>AST</th>\n",
       "      <th>ALT</th>\n",
       "      <th>GTP</th>\n",
       "      <th>smoking</th>\n",
       "      <th>drinking</th>\n",
       "      <th>oral_check</th>\n",
       "      <th>dental_caries</th>\n",
       "      <th>tartar</th>\n",
       "      <th>open_date</th>\n",
       "    </tr>\n",
       "  </thead>\n",
       "  <tbody>\n",
       "    <tr>\n",
       "      <th>0</th>\n",
       "      <td>2020</td>\n",
       "      <td>36</td>\n",
       "      <td>1</td>\n",
       "      <td>9</td>\n",
       "      <td>165</td>\n",
       "      <td>60</td>\n",
       "      <td>72.1</td>\n",
       "      <td>1.2</td>\n",
       "      <td>1.5</td>\n",
       "      <td>1</td>\n",
       "      <td>...</td>\n",
       "      <td>1.1</td>\n",
       "      <td>21.0</td>\n",
       "      <td>27.0</td>\n",
       "      <td>21.0</td>\n",
       "      <td>1</td>\n",
       "      <td>0</td>\n",
       "      <td>0</td>\n",
       "      <td>NaN</td>\n",
       "      <td>NaN</td>\n",
       "      <td>2021-12-29</td>\n",
       "    </tr>\n",
       "    <tr>\n",
       "      <th>1</th>\n",
       "      <td>2020</td>\n",
       "      <td>27</td>\n",
       "      <td>2</td>\n",
       "      <td>13</td>\n",
       "      <td>150</td>\n",
       "      <td>65</td>\n",
       "      <td>81.0</td>\n",
       "      <td>0.8</td>\n",
       "      <td>0.8</td>\n",
       "      <td>1</td>\n",
       "      <td>...</td>\n",
       "      <td>0.5</td>\n",
       "      <td>18.0</td>\n",
       "      <td>15.0</td>\n",
       "      <td>15.0</td>\n",
       "      <td>1</td>\n",
       "      <td>0</td>\n",
       "      <td>0</td>\n",
       "      <td>NaN</td>\n",
       "      <td>NaN</td>\n",
       "      <td>2021-12-29</td>\n",
       "    </tr>\n",
       "    <tr>\n",
       "      <th>2</th>\n",
       "      <td>2020</td>\n",
       "      <td>11</td>\n",
       "      <td>2</td>\n",
       "      <td>12</td>\n",
       "      <td>155</td>\n",
       "      <td>55</td>\n",
       "      <td>70.0</td>\n",
       "      <td>0.6</td>\n",
       "      <td>0.7</td>\n",
       "      <td>1</td>\n",
       "      <td>...</td>\n",
       "      <td>0.7</td>\n",
       "      <td>27.0</td>\n",
       "      <td>25.0</td>\n",
       "      <td>7.0</td>\n",
       "      <td>1</td>\n",
       "      <td>0</td>\n",
       "      <td>0</td>\n",
       "      <td>NaN</td>\n",
       "      <td>NaN</td>\n",
       "      <td>2021-12-29</td>\n",
       "    </tr>\n",
       "  </tbody>\n",
       "</table>\n",
       "<p>3 rows × 30 columns</p>\n",
       "</div>"
      ]
     },
     "execution_count": 2,
     "metadata": {},
     "output_type": "execute_result"
    }
   ],
   "execution_count": 2
  },
  {
   "cell_type": "code",
   "id": "543c1e66-9235-459d-86bf-5d6312f2f37a",
   "metadata": {
    "ExecuteTime": {
     "end_time": "2025-06-12T13:48:07.215494Z",
     "start_time": "2025-06-12T13:48:07.213052Z"
    }
   },
   "source": [
    "print(df.columns)"
   ],
   "outputs": [
    {
     "name": "stdout",
     "output_type": "stream",
     "text": [
      "Index(['year', 'city_code', 'gender', 'age_code', 'height', 'weight', 'waist',\n",
      "       'eye_left', 'eye_right', 'hear_left', 'hear_right', 'systolic',\n",
      "       'diastolic', 'blood_sugar', 'cholesterol', 'triglycerides', 'HDL',\n",
      "       'LDL', 'hemoglobin', 'urine_protein', 'serum', 'AST', 'ALT', 'GTP',\n",
      "       'smoking', 'drinking', 'oral_check', 'dental_caries', 'tartar',\n",
      "       'open_date'],\n",
      "      dtype='object')\n"
     ]
    }
   ],
   "execution_count": 3
  },
  {
   "cell_type": "code",
   "id": "75ac9fed-5427-46eb-8e0d-f217858ff895",
   "metadata": {
    "ExecuteTime": {
     "end_time": "2025-06-12T13:48:08.374618Z",
     "start_time": "2025-06-12T13:48:08.369805Z"
    }
   },
   "source": [
    "df[['gender', 'smoking', 'drinking']].head(3)"
   ],
   "outputs": [
    {
     "data": {
      "text/plain": [
       "   gender  smoking  drinking\n",
       "0       1        1         0\n",
       "1       2        1         0\n",
       "2       2        1         0"
      ],
      "text/html": [
       "<div>\n",
       "<style scoped>\n",
       "    .dataframe tbody tr th:only-of-type {\n",
       "        vertical-align: middle;\n",
       "    }\n",
       "\n",
       "    .dataframe tbody tr th {\n",
       "        vertical-align: top;\n",
       "    }\n",
       "\n",
       "    .dataframe thead th {\n",
       "        text-align: right;\n",
       "    }\n",
       "</style>\n",
       "<table border=\"1\" class=\"dataframe\">\n",
       "  <thead>\n",
       "    <tr style=\"text-align: right;\">\n",
       "      <th></th>\n",
       "      <th>gender</th>\n",
       "      <th>smoking</th>\n",
       "      <th>drinking</th>\n",
       "    </tr>\n",
       "  </thead>\n",
       "  <tbody>\n",
       "    <tr>\n",
       "      <th>0</th>\n",
       "      <td>1</td>\n",
       "      <td>1</td>\n",
       "      <td>0</td>\n",
       "    </tr>\n",
       "    <tr>\n",
       "      <th>1</th>\n",
       "      <td>2</td>\n",
       "      <td>1</td>\n",
       "      <td>0</td>\n",
       "    </tr>\n",
       "    <tr>\n",
       "      <th>2</th>\n",
       "      <td>2</td>\n",
       "      <td>1</td>\n",
       "      <td>0</td>\n",
       "    </tr>\n",
       "  </tbody>\n",
       "</table>\n",
       "</div>"
      ]
     },
     "execution_count": 4,
     "metadata": {},
     "output_type": "execute_result"
    }
   ],
   "execution_count": 4
  },
  {
   "cell_type": "code",
   "id": "ba1999f4-d1c4-4cab-8b6a-6e70289ea30f",
   "metadata": {
    "ExecuteTime": {
     "end_time": "2025-06-12T13:48:42.146077Z",
     "start_time": "2025-06-12T13:48:42.138320Z"
    }
   },
   "source": [
    "df.info()"
   ],
   "outputs": [
    {
     "name": "stdout",
     "output_type": "stream",
     "text": [
      "<class 'pandas.core.frame.DataFrame'>\n",
      "RangeIndex: 1000 entries, 0 to 999\n",
      "Data columns (total 30 columns):\n",
      " #   Column         Non-Null Count  Dtype         \n",
      "---  ------         --------------  -----         \n",
      " 0   year           1000 non-null   int64         \n",
      " 1   city_code      1000 non-null   int64         \n",
      " 2   gender         1000 non-null   int64         \n",
      " 3   age_code       1000 non-null   int64         \n",
      " 4   height         1000 non-null   int64         \n",
      " 5   weight         1000 non-null   int64         \n",
      " 6   waist          1000 non-null   float64       \n",
      " 7   eye_left       1000 non-null   float64       \n",
      " 8   eye_right      1000 non-null   float64       \n",
      " 9   hear_left      1000 non-null   int64         \n",
      " 10  hear_right     1000 non-null   int64         \n",
      " 11  systolic       991 non-null    float64       \n",
      " 12  diastolic      991 non-null    float64       \n",
      " 13  blood_sugar    991 non-null    float64       \n",
      " 14  cholesterol    401 non-null    float64       \n",
      " 15  triglycerides  401 non-null    float64       \n",
      " 16  HDL            401 non-null    float64       \n",
      " 17  LDL            394 non-null    float64       \n",
      " 18  hemoglobin     991 non-null    float64       \n",
      " 19  urine_protein  987 non-null    float64       \n",
      " 20  serum          991 non-null    float64       \n",
      " 21  AST            991 non-null    float64       \n",
      " 22  ALT            991 non-null    float64       \n",
      " 23  GTP            991 non-null    float64       \n",
      " 24  smoking        1000 non-null   int64         \n",
      " 25  drinking       1000 non-null   int64         \n",
      " 26  oral_check     1000 non-null   int64         \n",
      " 27  dental_caries  306 non-null    float64       \n",
      " 28  tartar         306 non-null    float64       \n",
      " 29  open_date      1000 non-null   datetime64[ns]\n",
      "dtypes: datetime64[ns](1), float64(18), int64(11)\n",
      "memory usage: 234.5 KB\n"
     ]
    }
   ],
   "execution_count": 5
  },
  {
   "cell_type": "code",
   "id": "45b907d8-c467-43ae-9a77-7e2359b340e1",
   "metadata": {
    "ExecuteTime": {
     "end_time": "2025-06-12T13:49:02.945787Z",
     "start_time": "2025-06-12T13:49:02.940575Z"
    }
   },
   "source": [
    "df['gender'] = df['gender'].astype(str)  # int64 --> string\n",
    "df.info()"
   ],
   "outputs": [
    {
     "name": "stdout",
     "output_type": "stream",
     "text": [
      "<class 'pandas.core.frame.DataFrame'>\n",
      "RangeIndex: 1000 entries, 0 to 999\n",
      "Data columns (total 30 columns):\n",
      " #   Column         Non-Null Count  Dtype         \n",
      "---  ------         --------------  -----         \n",
      " 0   year           1000 non-null   int64         \n",
      " 1   city_code      1000 non-null   int64         \n",
      " 2   gender         1000 non-null   object        \n",
      " 3   age_code       1000 non-null   int64         \n",
      " 4   height         1000 non-null   int64         \n",
      " 5   weight         1000 non-null   int64         \n",
      " 6   waist          1000 non-null   float64       \n",
      " 7   eye_left       1000 non-null   float64       \n",
      " 8   eye_right      1000 non-null   float64       \n",
      " 9   hear_left      1000 non-null   int64         \n",
      " 10  hear_right     1000 non-null   int64         \n",
      " 11  systolic       991 non-null    float64       \n",
      " 12  diastolic      991 non-null    float64       \n",
      " 13  blood_sugar    991 non-null    float64       \n",
      " 14  cholesterol    401 non-null    float64       \n",
      " 15  triglycerides  401 non-null    float64       \n",
      " 16  HDL            401 non-null    float64       \n",
      " 17  LDL            394 non-null    float64       \n",
      " 18  hemoglobin     991 non-null    float64       \n",
      " 19  urine_protein  987 non-null    float64       \n",
      " 20  serum          991 non-null    float64       \n",
      " 21  AST            991 non-null    float64       \n",
      " 22  ALT            991 non-null    float64       \n",
      " 23  GTP            991 non-null    float64       \n",
      " 24  smoking        1000 non-null   int64         \n",
      " 25  drinking       1000 non-null   int64         \n",
      " 26  oral_check     1000 non-null   int64         \n",
      " 27  dental_caries  306 non-null    float64       \n",
      " 28  tartar         306 non-null    float64       \n",
      " 29  open_date      1000 non-null   datetime64[ns]\n",
      "dtypes: datetime64[ns](1), float64(18), int64(10), object(1)\n",
      "memory usage: 234.5+ KB\n"
     ]
    }
   ],
   "execution_count": 6
  },
  {
   "cell_type": "code",
   "id": "f123ece0-b603-47ab-a675-baeea58a2f86",
   "metadata": {
    "ExecuteTime": {
     "end_time": "2025-06-12T14:02:00.584041Z",
     "start_time": "2025-06-12T14:02:00.576752Z"
    }
   },
   "source": [
    "df['smoking'] = df['smoking'].astype(str)\n",
    "df['drinking'] = df['drinking'].astype(str)\n",
    "\n",
    "df.info()"
   ],
   "outputs": [
    {
     "name": "stdout",
     "output_type": "stream",
     "text": [
      "<class 'pandas.core.frame.DataFrame'>\n",
      "RangeIndex: 1000 entries, 0 to 999\n",
      "Data columns (total 30 columns):\n",
      " #   Column         Non-Null Count  Dtype         \n",
      "---  ------         --------------  -----         \n",
      " 0   year           1000 non-null   int64         \n",
      " 1   city_code      1000 non-null   int64         \n",
      " 2   gender         1000 non-null   object        \n",
      " 3   age_code       1000 non-null   int64         \n",
      " 4   height         1000 non-null   int64         \n",
      " 5   weight         1000 non-null   int64         \n",
      " 6   waist          1000 non-null   float64       \n",
      " 7   eye_left       1000 non-null   float64       \n",
      " 8   eye_right      1000 non-null   float64       \n",
      " 9   hear_left      1000 non-null   int64         \n",
      " 10  hear_right     1000 non-null   int64         \n",
      " 11  systolic       991 non-null    float64       \n",
      " 12  diastolic      991 non-null    float64       \n",
      " 13  blood_sugar    991 non-null    float64       \n",
      " 14  cholesterol    401 non-null    float64       \n",
      " 15  triglycerides  401 non-null    float64       \n",
      " 16  HDL            401 non-null    float64       \n",
      " 17  LDL            394 non-null    float64       \n",
      " 18  hemoglobin     991 non-null    float64       \n",
      " 19  urine_protein  987 non-null    float64       \n",
      " 20  serum          991 non-null    float64       \n",
      " 21  AST            991 non-null    float64       \n",
      " 22  ALT            991 non-null    float64       \n",
      " 23  GTP            991 non-null    float64       \n",
      " 24  smoking        1000 non-null   object        \n",
      " 25  drinking       1000 non-null   object        \n",
      " 26  oral_check     1000 non-null   int64         \n",
      " 27  dental_caries  306 non-null    float64       \n",
      " 28  tartar         306 non-null    float64       \n",
      " 29  open_date      1000 non-null   datetime64[ns]\n",
      "dtypes: datetime64[ns](1), float64(18), int64(8), object(3)\n",
      "memory usage: 234.5+ KB\n"
     ]
    }
   ],
   "execution_count": 9
  },
  {
   "cell_type": "code",
   "id": "236a57bf-1848-469d-b8be-327267ca453b",
   "metadata": {
    "ExecuteTime": {
     "end_time": "2025-06-12T14:02:02.499688Z",
     "start_time": "2025-06-12T14:02:02.495427Z"
    }
   },
   "source": [
    "# gender\n",
    "# 1 --> \"Man\", 2 --> \"Woman\"\n",
    "df.loc[df[\"gender\"] == '1', \"gender\"] = \"Man\"  # [행,열]\n",
    "df.loc[df[\"gender\"] == '2', \"gender\"] = \"Woman\"\n",
    "df[\"gender\"]"
   ],
   "outputs": [
    {
     "data": {
      "text/plain": [
       "0        Man\n",
       "1      Woman\n",
       "2      Woman\n",
       "3        Man\n",
       "4      Woman\n",
       "       ...  \n",
       "995      Man\n",
       "996      Man\n",
       "997    Woman\n",
       "998    Woman\n",
       "999      Man\n",
       "Name: gender, Length: 1000, dtype: object"
      ]
     },
     "execution_count": 10,
     "metadata": {},
     "output_type": "execute_result"
    }
   ],
   "execution_count": 10
  },
  {
   "cell_type": "code",
   "id": "96c60572-8a60-4c85-b282-ae45f86a359c",
   "metadata": {
    "ExecuteTime": {
     "end_time": "2025-06-12T14:02:04.063121Z",
     "start_time": "2025-06-12T14:02:04.057919Z"
    }
   },
   "source": [
    "# smoking\n",
    "# 1, 2 --> \"Non-smoking\", 3 --> \"Smoking\"\n",
    "\n",
    "df.loc[(df[\"smoking\"] == '1') | (df[\"smoking\"] == '2'), \"smoking\"] = \"Non-smoking\"  # 논리합(or)\n",
    "df.loc[df[\"smoking\"] == '3', \"smoking\"] = \"Smoking\"\n",
    "df[\"smoking\"]"
   ],
   "outputs": [
    {
     "data": {
      "text/plain": [
       "0      Non-smoking\n",
       "1      Non-smoking\n",
       "2      Non-smoking\n",
       "3      Non-smoking\n",
       "4      Non-smoking\n",
       "          ...     \n",
       "995        Smoking\n",
       "996    Non-smoking\n",
       "997    Non-smoking\n",
       "998    Non-smoking\n",
       "999    Non-smoking\n",
       "Name: smoking, Length: 1000, dtype: object"
      ]
     },
     "execution_count": 11,
     "metadata": {},
     "output_type": "execute_result"
    }
   ],
   "execution_count": 11
  },
  {
   "cell_type": "code",
   "id": "931b0fb0-9b79-43d2-bb59-1bf20b9cc1ee",
   "metadata": {
    "ExecuteTime": {
     "end_time": "2025-06-12T14:02:38.740354Z",
     "start_time": "2025-06-12T14:02:38.735229Z"
    }
   },
   "source": [
    "# drinking\n",
    "# 0 --> \"Non-drinking\", 1 --> \"Drinking\"\n",
    "\n",
    "df.loc[df[\"drinking\"] == '0', \"drinking\"] = \"Non-drinking\"  # 단 한번도 마신 적 없는 경우\n",
    "df.loc[df[\"drinking\"] == '1', \"drinking\"] = \"Drinking\"\n",
    "df[\"drinking\"]"
   ],
   "outputs": [
    {
     "data": {
      "text/plain": [
       "0      Non-drinking\n",
       "1      Non-drinking\n",
       "2      Non-drinking\n",
       "3      Non-drinking\n",
       "4      Non-drinking\n",
       "           ...     \n",
       "995        Drinking\n",
       "996    Non-drinking\n",
       "997        Drinking\n",
       "998    Non-drinking\n",
       "999        Drinking\n",
       "Name: drinking, Length: 1000, dtype: object"
      ]
     },
     "execution_count": 12,
     "metadata": {},
     "output_type": "execute_result"
    }
   ],
   "execution_count": 12
  },
  {
   "cell_type": "code",
   "id": "71104122-385e-4cdd-ad41-bb902fc29c8c",
   "metadata": {
    "ExecuteTime": {
     "end_time": "2025-06-12T14:03:12.313846Z",
     "start_time": "2025-06-12T14:03:12.308670Z"
    }
   },
   "source": [
    "df[['gender', 'smoking', 'drinking']].head(3)"
   ],
   "outputs": [
    {
     "data": {
      "text/plain": [
       "  gender      smoking      drinking\n",
       "0    Man  Non-smoking  Non-drinking\n",
       "1  Woman  Non-smoking  Non-drinking\n",
       "2  Woman  Non-smoking  Non-drinking"
      ],
      "text/html": [
       "<div>\n",
       "<style scoped>\n",
       "    .dataframe tbody tr th:only-of-type {\n",
       "        vertical-align: middle;\n",
       "    }\n",
       "\n",
       "    .dataframe tbody tr th {\n",
       "        vertical-align: top;\n",
       "    }\n",
       "\n",
       "    .dataframe thead th {\n",
       "        text-align: right;\n",
       "    }\n",
       "</style>\n",
       "<table border=\"1\" class=\"dataframe\">\n",
       "  <thead>\n",
       "    <tr style=\"text-align: right;\">\n",
       "      <th></th>\n",
       "      <th>gender</th>\n",
       "      <th>smoking</th>\n",
       "      <th>drinking</th>\n",
       "    </tr>\n",
       "  </thead>\n",
       "  <tbody>\n",
       "    <tr>\n",
       "      <th>0</th>\n",
       "      <td>Man</td>\n",
       "      <td>Non-smoking</td>\n",
       "      <td>Non-drinking</td>\n",
       "    </tr>\n",
       "    <tr>\n",
       "      <th>1</th>\n",
       "      <td>Woman</td>\n",
       "      <td>Non-smoking</td>\n",
       "      <td>Non-drinking</td>\n",
       "    </tr>\n",
       "    <tr>\n",
       "      <th>2</th>\n",
       "      <td>Woman</td>\n",
       "      <td>Non-smoking</td>\n",
       "      <td>Non-drinking</td>\n",
       "    </tr>\n",
       "  </tbody>\n",
       "</table>\n",
       "</div>"
      ]
     },
     "execution_count": 13,
     "metadata": {},
     "output_type": "execute_result"
    }
   ],
   "execution_count": 13
  },
  {
   "cell_type": "code",
   "id": "afb85210-20b1-4e7e-a84f-32586ca4178e",
   "metadata": {
    "ExecuteTime": {
     "end_time": "2025-06-12T14:13:47.569963Z",
     "start_time": "2025-06-12T14:13:47.564876Z"
    }
   },
   "source": [
    "smoking = df.groupby([\"gender\", \"smoking\"])[\"smoking\"].count()\n",
    "smoking"
   ],
   "outputs": [
    {
     "data": {
      "text/plain": [
       "gender  smoking    \n",
       "Man     Non-smoking    321\n",
       "        Smoking        161\n",
       "Woman   Non-smoking    500\n",
       "        Smoking         18\n",
       "Name: smoking, dtype: int64"
      ]
     },
     "execution_count": 24,
     "metadata": {},
     "output_type": "execute_result"
    }
   ],
   "execution_count": 24
  },
  {
   "cell_type": "code",
   "id": "3ed90e12-e1fd-48aa-b22f-3dfbb6b1cffe",
   "metadata": {
    "ExecuteTime": {
     "end_time": "2025-06-12T14:13:48.779185Z",
     "start_time": "2025-06-12T14:13:48.773988Z"
    }
   },
   "source": [
    "# Series ---> to_frame() ---> DataFrame\n",
    "smoking = smoking.to_frame(name=\"count\")  # name='키값(k)'\n",
    "smoking"
   ],
   "outputs": [
    {
     "data": {
      "text/plain": [
       "                    count\n",
       "gender smoking           \n",
       "Man    Non-smoking    321\n",
       "       Smoking        161\n",
       "Woman  Non-smoking    500\n",
       "       Smoking         18"
      ],
      "text/html": [
       "<div>\n",
       "<style scoped>\n",
       "    .dataframe tbody tr th:only-of-type {\n",
       "        vertical-align: middle;\n",
       "    }\n",
       "\n",
       "    .dataframe tbody tr th {\n",
       "        vertical-align: top;\n",
       "    }\n",
       "\n",
       "    .dataframe thead th {\n",
       "        text-align: right;\n",
       "    }\n",
       "</style>\n",
       "<table border=\"1\" class=\"dataframe\">\n",
       "  <thead>\n",
       "    <tr style=\"text-align: right;\">\n",
       "      <th></th>\n",
       "      <th></th>\n",
       "      <th>count</th>\n",
       "    </tr>\n",
       "    <tr>\n",
       "      <th>gender</th>\n",
       "      <th>smoking</th>\n",
       "      <th></th>\n",
       "    </tr>\n",
       "  </thead>\n",
       "  <tbody>\n",
       "    <tr>\n",
       "      <th rowspan=\"2\" valign=\"top\">Man</th>\n",
       "      <th>Non-smoking</th>\n",
       "      <td>321</td>\n",
       "    </tr>\n",
       "    <tr>\n",
       "      <th>Smoking</th>\n",
       "      <td>161</td>\n",
       "    </tr>\n",
       "    <tr>\n",
       "      <th rowspan=\"2\" valign=\"top\">Woman</th>\n",
       "      <th>Non-smoking</th>\n",
       "      <td>500</td>\n",
       "    </tr>\n",
       "    <tr>\n",
       "      <th>Smoking</th>\n",
       "      <td>18</td>\n",
       "    </tr>\n",
       "  </tbody>\n",
       "</table>\n",
       "</div>"
      ]
     },
     "execution_count": 25,
     "metadata": {},
     "output_type": "execute_result"
    }
   ],
   "execution_count": 25
  },
  {
   "cell_type": "code",
   "id": "492c99e8-6c52-4a8c-88bf-97cb6ccbb445",
   "metadata": {
    "ExecuteTime": {
     "end_time": "2025-06-12T14:15:01.424863Z",
     "start_time": "2025-06-12T14:15:01.421447Z"
    }
   },
   "source": [
    "smoking = smoking.reset_index()\n",
    "smoking"
   ],
   "outputs": [
    {
     "data": {
      "text/plain": [
       "   index gender      smoking  count\n",
       "0      0    Man  Non-smoking    321\n",
       "1      1    Man      Smoking    161\n",
       "2      2  Woman  Non-smoking    500\n",
       "3      3  Woman      Smoking     18"
      ],
      "text/html": [
       "<div>\n",
       "<style scoped>\n",
       "    .dataframe tbody tr th:only-of-type {\n",
       "        vertical-align: middle;\n",
       "    }\n",
       "\n",
       "    .dataframe tbody tr th {\n",
       "        vertical-align: top;\n",
       "    }\n",
       "\n",
       "    .dataframe thead th {\n",
       "        text-align: right;\n",
       "    }\n",
       "</style>\n",
       "<table border=\"1\" class=\"dataframe\">\n",
       "  <thead>\n",
       "    <tr style=\"text-align: right;\">\n",
       "      <th></th>\n",
       "      <th>index</th>\n",
       "      <th>gender</th>\n",
       "      <th>smoking</th>\n",
       "      <th>count</th>\n",
       "    </tr>\n",
       "  </thead>\n",
       "  <tbody>\n",
       "    <tr>\n",
       "      <th>0</th>\n",
       "      <td>0</td>\n",
       "      <td>Man</td>\n",
       "      <td>Non-smoking</td>\n",
       "      <td>321</td>\n",
       "    </tr>\n",
       "    <tr>\n",
       "      <th>1</th>\n",
       "      <td>1</td>\n",
       "      <td>Man</td>\n",
       "      <td>Smoking</td>\n",
       "      <td>161</td>\n",
       "    </tr>\n",
       "    <tr>\n",
       "      <th>2</th>\n",
       "      <td>2</td>\n",
       "      <td>Woman</td>\n",
       "      <td>Non-smoking</td>\n",
       "      <td>500</td>\n",
       "    </tr>\n",
       "    <tr>\n",
       "      <th>3</th>\n",
       "      <td>3</td>\n",
       "      <td>Woman</td>\n",
       "      <td>Smoking</td>\n",
       "      <td>18</td>\n",
       "    </tr>\n",
       "  </tbody>\n",
       "</table>\n",
       "</div>"
      ]
     },
     "execution_count": 27,
     "metadata": {},
     "output_type": "execute_result"
    }
   ],
   "execution_count": 27
  },
  {
   "cell_type": "code",
   "id": "d16b115a-c440-4a06-9143-9e7cebe0968a",
   "metadata": {
    "ExecuteTime": {
     "end_time": "2025-06-12T14:15:56.063788Z",
     "start_time": "2025-06-12T14:15:56.060304Z"
    }
   },
   "source": [
    "drinking = df.groupby([\"gender\", \"drinking\"])[\"drinking\"].count()\n",
    "drinking"
   ],
   "outputs": [
    {
     "data": {
      "text/plain": [
       "gender  drinking    \n",
       "Man     Drinking        356\n",
       "        Non-drinking    126\n",
       "Woman   Drinking        213\n",
       "        Non-drinking    305\n",
       "Name: drinking, dtype: int64"
      ]
     },
     "execution_count": 29,
     "metadata": {},
     "output_type": "execute_result"
    }
   ],
   "execution_count": 29
  },
  {
   "cell_type": "code",
   "id": "309b8e4f-2ba1-4b9d-8024-2ede0837796e",
   "metadata": {
    "ExecuteTime": {
     "end_time": "2025-06-12T14:15:59.611031Z",
     "start_time": "2025-06-12T14:15:59.606683Z"
    }
   },
   "source": [
    "drinking = drinking.to_frame(\"count\")\n",
    "drinking"
   ],
   "outputs": [
    {
     "data": {
      "text/plain": [
       "                     count\n",
       "gender drinking           \n",
       "Man    Drinking        356\n",
       "       Non-drinking    126\n",
       "Woman  Drinking        213\n",
       "       Non-drinking    305"
      ],
      "text/html": [
       "<div>\n",
       "<style scoped>\n",
       "    .dataframe tbody tr th:only-of-type {\n",
       "        vertical-align: middle;\n",
       "    }\n",
       "\n",
       "    .dataframe tbody tr th {\n",
       "        vertical-align: top;\n",
       "    }\n",
       "\n",
       "    .dataframe thead th {\n",
       "        text-align: right;\n",
       "    }\n",
       "</style>\n",
       "<table border=\"1\" class=\"dataframe\">\n",
       "  <thead>\n",
       "    <tr style=\"text-align: right;\">\n",
       "      <th></th>\n",
       "      <th></th>\n",
       "      <th>count</th>\n",
       "    </tr>\n",
       "    <tr>\n",
       "      <th>gender</th>\n",
       "      <th>drinking</th>\n",
       "      <th></th>\n",
       "    </tr>\n",
       "  </thead>\n",
       "  <tbody>\n",
       "    <tr>\n",
       "      <th rowspan=\"2\" valign=\"top\">Man</th>\n",
       "      <th>Drinking</th>\n",
       "      <td>356</td>\n",
       "    </tr>\n",
       "    <tr>\n",
       "      <th>Non-drinking</th>\n",
       "      <td>126</td>\n",
       "    </tr>\n",
       "    <tr>\n",
       "      <th rowspan=\"2\" valign=\"top\">Woman</th>\n",
       "      <th>Drinking</th>\n",
       "      <td>213</td>\n",
       "    </tr>\n",
       "    <tr>\n",
       "      <th>Non-drinking</th>\n",
       "      <td>305</td>\n",
       "    </tr>\n",
       "  </tbody>\n",
       "</table>\n",
       "</div>"
      ]
     },
     "execution_count": 30,
     "metadata": {},
     "output_type": "execute_result"
    }
   ],
   "execution_count": 30
  },
  {
   "cell_type": "code",
   "id": "352e2f15-47c6-41c0-8da4-40653ddcc17b",
   "metadata": {
    "ExecuteTime": {
     "end_time": "2025-06-12T14:16:04.937303Z",
     "start_time": "2025-06-12T14:16:04.933036Z"
    }
   },
   "source": [
    "drinking = drinking.reset_index()\n",
    "drinking"
   ],
   "outputs": [
    {
     "data": {
      "text/plain": [
       "  gender      drinking  count\n",
       "0    Man      Drinking    356\n",
       "1    Man  Non-drinking    126\n",
       "2  Woman      Drinking    213\n",
       "3  Woman  Non-drinking    305"
      ],
      "text/html": [
       "<div>\n",
       "<style scoped>\n",
       "    .dataframe tbody tr th:only-of-type {\n",
       "        vertical-align: middle;\n",
       "    }\n",
       "\n",
       "    .dataframe tbody tr th {\n",
       "        vertical-align: top;\n",
       "    }\n",
       "\n",
       "    .dataframe thead th {\n",
       "        text-align: right;\n",
       "    }\n",
       "</style>\n",
       "<table border=\"1\" class=\"dataframe\">\n",
       "  <thead>\n",
       "    <tr style=\"text-align: right;\">\n",
       "      <th></th>\n",
       "      <th>gender</th>\n",
       "      <th>drinking</th>\n",
       "      <th>count</th>\n",
       "    </tr>\n",
       "  </thead>\n",
       "  <tbody>\n",
       "    <tr>\n",
       "      <th>0</th>\n",
       "      <td>Man</td>\n",
       "      <td>Drinking</td>\n",
       "      <td>356</td>\n",
       "    </tr>\n",
       "    <tr>\n",
       "      <th>1</th>\n",
       "      <td>Man</td>\n",
       "      <td>Non-drinking</td>\n",
       "      <td>126</td>\n",
       "    </tr>\n",
       "    <tr>\n",
       "      <th>2</th>\n",
       "      <td>Woman</td>\n",
       "      <td>Drinking</td>\n",
       "      <td>213</td>\n",
       "    </tr>\n",
       "    <tr>\n",
       "      <th>3</th>\n",
       "      <td>Woman</td>\n",
       "      <td>Non-drinking</td>\n",
       "      <td>305</td>\n",
       "    </tr>\n",
       "  </tbody>\n",
       "</table>\n",
       "</div>"
      ]
     },
     "execution_count": 31,
     "metadata": {},
     "output_type": "execute_result"
    }
   ],
   "execution_count": 31
  },
  {
   "metadata": {},
   "cell_type": "markdown",
   "source": "> matplotlib을 활용한 그래프 그리기",
   "id": "44f9e55e3931f8ce"
  },
  {
   "cell_type": "code",
   "id": "0dc5827e-a7d1-407d-b129-899f87f2ceff",
   "metadata": {
    "ExecuteTime": {
     "end_time": "2025-06-12T16:49:35.480573Z",
     "start_time": "2025-06-12T16:49:35.411040Z"
    }
   },
   "source": [
    "# matplotlib vs. seaborn\n",
    "import matplotlib.pyplot as plt\n",
    "import numpy as np\n",
    "\n",
    "fig = plt.figure(figsize=(17, 6))\n",
    "\n",
    "# 2^x ---> 2: 밑, x: 지수\n",
    "# super-script (지수)\n",
    "\n",
    "# log10(x) ---> 10: Base\n",
    "# sub-script\n",
    "fig.suptitle(\"matplotlib Bar Graph\", fontweight=\"bold\")\n",
    "\n",
    "index = np.arange(0, 4, 1)  # 0, 1, 2, 3\n",
    "# 1번 도화지\n",
    "fig.add_subplot(1, 2, 1)  # (행의 개수, 열의 개수, 인덱스(1부터 카운팅))\n",
    "# smoking\n",
    "plt.bar(index, smoking[\"count\"])\n",
    "plt.title(\"Smoking\")\n",
    "plt.ylabel(\"Count\")\n",
    "plt.xticks(index, [\"(Man) Non-smoking\", \"(Man) Smoking\",\n",
    "                   \"(Woman) Non-smoking\", \"(Woman) Smoking\"])\n",
    "\n",
    "# 2번 도화지\n",
    "fig.add_subplot(1, 2, 2)\n",
    "# drinking\n",
    "plt.bar(index, drinking[\"count\"])\n",
    "plt.title(\"Drinking\")\n",
    "plt.ylabel(\"Count\")\n",
    "plt.xticks(index, [\"(Man) Non-drinking\", \"(Man) Drinking\",\n",
    "                   \"(Woman) Non-drinking\", \"(Woman) Drinking\"])\n",
    "\n",
    "plt.show()"
   ],
   "outputs": [
    {
     "data": {
      "text/plain": [
       "<Figure size 1700x600 with 2 Axes>"
      ],
      "image/png": "[encoded data removed]"
     },
     "metadata": {},
     "output_type": "display_data"
    }
   ],
   "execution_count": 37
  },
  {
   "cell_type": "code",
   "execution_count": 18,
   "id": "ac06b494-d0fc-4a16-b023-df26d112ff57",
   "metadata": {},
   "outputs": [
    {
     "data": {
      "text/html": [
       "<div>\n",
       "<style scoped>\n",
       "    .dataframe tbody tr th:only-of-type {\n",
       "        vertical-align: middle;\n",
       "    }\n",
       "\n",
       "    .dataframe tbody tr th {\n",
       "        vertical-align: top;\n",
       "    }\n",
       "\n",
       "    .dataframe thead th {\n",
       "        text-align: right;\n",
       "    }\n",
       "</style>\n",
       "<table border=\"1\" class=\"dataframe\">\n",
       "  <thead>\n",
       "    <tr style=\"text-align: right;\">\n",
       "      <th></th>\n",
       "      <th>gender</th>\n",
       "      <th>smoking</th>\n",
       "      <th>count</th>\n",
       "    </tr>\n",
       "  </thead>\n",
       "  <tbody>\n",
       "    <tr>\n",
       "      <th>0</th>\n",
       "      <td>Man</td>\n",
       "      <td>Non-smoking</td>\n",
       "      <td>321</td>\n",
       "    </tr>\n",
       "    <tr>\n",
       "      <th>1</th>\n",
       "      <td>Man</td>\n",
       "      <td>Smoking</td>\n",
       "      <td>161</td>\n",
       "    </tr>\n",
       "    <tr>\n",
       "      <th>2</th>\n",
       "      <td>Woman</td>\n",
       "      <td>Non-smoking</td>\n",
       "      <td>500</td>\n",
       "    </tr>\n",
       "    <tr>\n",
       "      <th>3</th>\n",
       "      <td>Woman</td>\n",
       "      <td>Smoking</td>\n",
       "      <td>18</td>\n",
       "    </tr>\n",
       "  </tbody>\n",
       "</table>\n",
       "</div>"
      ],
      "text/plain": [
       "  gender      smoking  count\n",
       "0    Man  Non-smoking    321\n",
       "1    Man      Smoking    161\n",
       "2  Woman  Non-smoking    500\n",
       "3  Woman      Smoking     18"
      ]
     },
     "execution_count": 18,
     "metadata": {},
     "output_type": "execute_result"
    }
   ],
   "source": [
    "smoking"
   ]
  },
  {
   "cell_type": "code",
   "execution_count": 19,
   "id": "943c7ba9-d72c-4f21-8780-fc37159e432d",
   "metadata": {},
   "outputs": [
    {
     "data": {
      "text/html": [
       "<div>\n",
       "<style scoped>\n",
       "    .dataframe tbody tr th:only-of-type {\n",
       "        vertical-align: middle;\n",
       "    }\n",
       "\n",
       "    .dataframe tbody tr th {\n",
       "        vertical-align: top;\n",
       "    }\n",
       "\n",
       "    .dataframe thead th {\n",
       "        text-align: right;\n",
       "    }\n",
       "</style>\n",
       "<table border=\"1\" class=\"dataframe\">\n",
       "  <thead>\n",
       "    <tr style=\"text-align: right;\">\n",
       "      <th></th>\n",
       "      <th>gender</th>\n",
       "      <th>drinking</th>\n",
       "      <th>count</th>\n",
       "    </tr>\n",
       "  </thead>\n",
       "  <tbody>\n",
       "    <tr>\n",
       "      <th>0</th>\n",
       "      <td>Man</td>\n",
       "      <td>Drinking</td>\n",
       "      <td>356</td>\n",
       "    </tr>\n",
       "    <tr>\n",
       "      <th>1</th>\n",
       "      <td>Man</td>\n",
       "      <td>Non-drinking</td>\n",
       "      <td>126</td>\n",
       "    </tr>\n",
       "    <tr>\n",
       "      <th>2</th>\n",
       "      <td>Woman</td>\n",
       "      <td>Drinking</td>\n",
       "      <td>213</td>\n",
       "    </tr>\n",
       "    <tr>\n",
       "      <th>3</th>\n",
       "      <td>Woman</td>\n",
       "      <td>Non-drinking</td>\n",
       "      <td>305</td>\n",
       "    </tr>\n",
       "  </tbody>\n",
       "</table>\n",
       "</div>"
      ],
      "text/plain": [
       "  gender      drinking  count\n",
       "0    Man      Drinking    356\n",
       "1    Man  Non-drinking    126\n",
       "2  Woman      Drinking    213\n",
       "3  Woman  Non-drinking    305"
      ]
     },
     "execution_count": 19,
     "metadata": {},
     "output_type": "execute_result"
    }
   ],
   "source": [
    "drinking"
   ]
  },
  {
   "metadata": {},
   "cell_type": "markdown",
   "source": "> seaborn을 활용한 그래프 그리기",
   "id": "9f6dbf356fd7a41c"
  },
  {
   "cell_type": "code",
   "id": "b5f4c2ec-ef25-468e-832c-de1324a44d93",
   "metadata": {
    "ExecuteTime": {
     "end_time": "2025-06-12T17:03:05.267748Z",
     "start_time": "2025-06-12T17:03:05.179898Z"
    }
   },
   "source": [
    "import seaborn as sns\n",
    "\n",
    "fig = plt.figure(figsize=(20, 5))\n",
    "\n",
    "fig.suptitle(\"Seaborn Bar Graph\", fontweight=\"bold\")\n",
    "\n",
    "area1 = fig.add_subplot(1, 2, 1)\n",
    "area2 = fig.add_subplot(1, 2, 2)\n",
    "\n",
    "sns.barplot(data=smoking, x=\"gender\", y=\"count\", hue=\"smoking\",\n",
    "            palette=[\"red\", \"green\"], ax=area1)\n",
    "area1.set_title(\"Smoking\")\n",
    "\n",
    "sns.barplot(data=drinking, x=\"gender\", y=\"count\", hue=\"drinking\",\n",
    "            palette=[\"blue\", \"gold\"], ax=area2)\n",
    "area2.set_title(\"Drinking\")\n",
    "\n",
    "plt.show()"
   ],
   "outputs": [
    {
     "data": {
      "text/plain": [
       "<Figure size 2000x500 with 2 Axes>"
      ],
      "image/png": "[encoded data removed]"
     },
     "metadata": {},
     "output_type": "display_data"
    }
   ],
   "execution_count": 44
  },
  {
   "cell_type": "code",
   "id": "dc4d8726-720a-46e0-9865-5ecc28949255",
   "metadata": {
    "ExecuteTime": {
     "end_time": "2025-06-12T17:13:52.328134Z",
     "start_time": "2025-06-12T17:13:52.324Z"
    }
   },
   "source": [
    "# 산점도 Scatter Plot\n",
    "m_data = df.loc[df[\"gender\"] == \"Man\", [\"gender\", \"weight\", \"waist\"]]\n",
    "w_data = df.loc[df[\"gender\"] == \"Woman\", [\"gender\", \"weight\", \"waist\"]]\n",
    "\n",
    "m_data.head(3)\n",
    "w_data.head(3)"
   ],
   "outputs": [
    {
     "data": {
      "text/plain": [
       "  gender  weight  waist\n",
       "1  Woman      65   81.0\n",
       "2  Woman      55   70.0\n",
       "4  Woman      50   75.2"
      ],
      "text/html": [
       "<div>\n",
       "<style scoped>\n",
       "    .dataframe tbody tr th:only-of-type {\n",
       "        vertical-align: middle;\n",
       "    }\n",
       "\n",
       "    .dataframe tbody tr th {\n",
       "        vertical-align: top;\n",
       "    }\n",
       "\n",
       "    .dataframe thead th {\n",
       "        text-align: right;\n",
       "    }\n",
       "</style>\n",
       "<table border=\"1\" class=\"dataframe\">\n",
       "  <thead>\n",
       "    <tr style=\"text-align: right;\">\n",
       "      <th></th>\n",
       "      <th>gender</th>\n",
       "      <th>weight</th>\n",
       "      <th>waist</th>\n",
       "    </tr>\n",
       "  </thead>\n",
       "  <tbody>\n",
       "    <tr>\n",
       "      <th>1</th>\n",
       "      <td>Woman</td>\n",
       "      <td>65</td>\n",
       "      <td>81.0</td>\n",
       "    </tr>\n",
       "    <tr>\n",
       "      <th>2</th>\n",
       "      <td>Woman</td>\n",
       "      <td>55</td>\n",
       "      <td>70.0</td>\n",
       "    </tr>\n",
       "    <tr>\n",
       "      <th>4</th>\n",
       "      <td>Woman</td>\n",
       "      <td>50</td>\n",
       "      <td>75.2</td>\n",
       "    </tr>\n",
       "  </tbody>\n",
       "</table>\n",
       "</div>"
      ]
     },
     "execution_count": 49,
     "metadata": {},
     "output_type": "execute_result"
    }
   ],
   "execution_count": 49
  },
  {
   "cell_type": "code",
   "id": "76cac656-3142-4cfe-a13c-45beba24b248",
   "metadata": {
    "ExecuteTime": {
     "end_time": "2025-06-12T17:23:10.156072Z",
     "start_time": "2025-06-12T17:23:10.095477Z"
    }
   },
   "source": [
    "# matploblib으로 산점도 그리기!\n",
    "\n",
    "plt.figure()\n",
    "plt.title(\"matplotlib scatter plot\")\n",
    "\n",
    "plt.scatter(m_data[\"waist\"], m_data[\"weight\"], label=\"Man\")\n",
    "plt.scatter(w_data[\"waist\"], w_data[\"weight\"], label=\"Woman\")\n",
    "\n",
    "plt.legend()\n",
    "plt.xlabel(\"waist\")\n",
    "plt.ylabel(\"weight\")\n",
    "plt.grid(True)\n",
    "\n",
    "plt.show()"
   ],
   "outputs": [
    {
     "data": {
      "text/plain": [
       "<Figure size 640x480 with 1 Axes>"
      ],
      "image/png": "[encoded data removed]"
     },
     "metadata": {},
     "output_type": "display_data"
    }
   ],
   "execution_count": 58
  },
  {
   "cell_type": "code",
   "id": "16ab60c5-f44a-4b5b-b99d-a2ee3db4e33f",
   "metadata": {
    "ExecuteTime": {
     "end_time": "2025-06-12T17:22:26.989641Z",
     "start_time": "2025-06-12T17:22:26.982095Z"
    }
   },
   "source": [
    "df.head(3)"
   ],
   "outputs": [
    {
     "data": {
      "text/plain": [
       "   year  city_code gender  age_code  height  weight  waist  eye_left  \\\n",
       "0  2020         36    Man         9     165      60   72.1       1.2   \n",
       "1  2020         27  Woman        13     150      65   81.0       0.8   \n",
       "2  2020         11  Woman        12     155      55   70.0       0.6   \n",
       "\n",
       "   eye_right  hear_left  ...  serum   AST   ALT   GTP      smoking  \\\n",
       "0        1.5          1  ...    1.1  21.0  27.0  21.0  Non-smoking   \n",
       "1        0.8          1  ...    0.5  18.0  15.0  15.0  Non-smoking   \n",
       "2        0.7          1  ...    0.7  27.0  25.0   7.0  Non-smoking   \n",
       "\n",
       "       drinking  oral_check  dental_caries  tartar  open_date  \n",
       "0  Non-drinking           0            NaN     NaN 2021-12-29  \n",
       "1  Non-drinking           0            NaN     NaN 2021-12-29  \n",
       "2  Non-drinking           0            NaN     NaN 2021-12-29  \n",
       "\n",
       "[3 rows x 30 columns]"
      ],
      "text/html": [
       "<div>\n",
       "<style scoped>\n",
       "    .dataframe tbody tr th:only-of-type {\n",
       "        vertical-align: middle;\n",
       "    }\n",
       "\n",
       "    .dataframe tbody tr th {\n",
       "        vertical-align: top;\n",
       "    }\n",
       "\n",
       "    .dataframe thead th {\n",
       "        text-align: right;\n",
       "    }\n",
       "</style>\n",
       "<table border=\"1\" class=\"dataframe\">\n",
       "  <thead>\n",
       "    <tr style=\"text-align: right;\">\n",
       "      <th></th>\n",
       "      <th>year</th>\n",
       "      <th>city_code</th>\n",
       "      <th>gender</th>\n",
       "      <th>age_code</th>\n",
       "      <th>height</th>\n",
       "      <th>weight</th>\n",
       "      <th>waist</th>\n",
       "      <th>eye_left</th>\n",
       "      <th>eye_right</th>\n",
       "      <th>hear_left</th>\n",
       "      <th>...</th>\n",
       "      <th>serum</th>\n",
       "      <th>AST</th>\n",
       "      <th>ALT</th>\n",
       "      <th>GTP</th>\n",
       "      <th>smoking</th>\n",
       "      <th>drinking</th>\n",
       "      <th>oral_check</th>\n",
       "      <th>dental_caries</th>\n",
       "      <th>tartar</th>\n",
       "      <th>open_date</th>\n",
       "    </tr>\n",
       "  </thead>\n",
       "  <tbody>\n",
       "    <tr>\n",
       "      <th>0</th>\n",
       "      <td>2020</td>\n",
       "      <td>36</td>\n",
       "      <td>Man</td>\n",
       "      <td>9</td>\n",
       "      <td>165</td>\n",
       "      <td>60</td>\n",
       "      <td>72.1</td>\n",
       "      <td>1.2</td>\n",
       "      <td>1.5</td>\n",
       "      <td>1</td>\n",
       "      <td>...</td>\n",
       "      <td>1.1</td>\n",
       "      <td>21.0</td>\n",
       "      <td>27.0</td>\n",
       "      <td>21.0</td>\n",
       "      <td>Non-smoking</td>\n",
       "      <td>Non-drinking</td>\n",
       "      <td>0</td>\n",
       "      <td>NaN</td>\n",
       "      <td>NaN</td>\n",
       "      <td>2021-12-29</td>\n",
       "    </tr>\n",
       "    <tr>\n",
       "      <th>1</th>\n",
       "      <td>2020</td>\n",
       "      <td>27</td>\n",
       "      <td>Woman</td>\n",
       "      <td>13</td>\n",
       "      <td>150</td>\n",
       "      <td>65</td>\n",
       "      <td>81.0</td>\n",
       "      <td>0.8</td>\n",
       "      <td>0.8</td>\n",
       "      <td>1</td>\n",
       "      <td>...</td>\n",
       "      <td>0.5</td>\n",
       "      <td>18.0</td>\n",
       "      <td>15.0</td>\n",
       "      <td>15.0</td>\n",
       "      <td>Non-smoking</td>\n",
       "      <td>Non-drinking</td>\n",
       "      <td>0</td>\n",
       "      <td>NaN</td>\n",
       "      <td>NaN</td>\n",
       "      <td>2021-12-29</td>\n",
       "    </tr>\n",
       "    <tr>\n",
       "      <th>2</th>\n",
       "      <td>2020</td>\n",
       "      <td>11</td>\n",
       "      <td>Woman</td>\n",
       "      <td>12</td>\n",
       "      <td>155</td>\n",
       "      <td>55</td>\n",
       "      <td>70.0</td>\n",
       "      <td>0.6</td>\n",
       "      <td>0.7</td>\n",
       "      <td>1</td>\n",
       "      <td>...</td>\n",
       "      <td>0.7</td>\n",
       "      <td>27.0</td>\n",
       "      <td>25.0</td>\n",
       "      <td>7.0</td>\n",
       "      <td>Non-smoking</td>\n",
       "      <td>Non-drinking</td>\n",
       "      <td>0</td>\n",
       "      <td>NaN</td>\n",
       "      <td>NaN</td>\n",
       "      <td>2021-12-29</td>\n",
       "    </tr>\n",
       "  </tbody>\n",
       "</table>\n",
       "<p>3 rows × 30 columns</p>\n",
       "</div>"
      ]
     },
     "execution_count": 55,
     "metadata": {},
     "output_type": "execute_result"
    }
   ],
   "execution_count": 55
  },
  {
   "cell_type": "code",
   "id": "afdbc152-60d7-4bce-b55f-069b9b9a9353",
   "metadata": {
    "ExecuteTime": {
     "end_time": "2025-06-12T17:24:23.456257Z",
     "start_time": "2025-06-12T17:24:23.392366Z"
    }
   },
   "source": [
    "# seaborn으로 산점도 그리기!\n",
    "plt.figure()\n",
    "plt.title(\"seaborn scatter plot\")\n",
    "\n",
    "sns.scatterplot(data=df, x=\"waist\", y=\"weight\", hue=\"gender\", palette=palette)\n",
    "palette=[\"blue\", \"pink\"]\n",
    "\n",
    "plt.grid(True)\n",
    "plt.show()\n"
   ],
   "outputs": [
    {
     "data": {
      "text/plain": [
       "<Figure size 640x480 with 1 Axes>"
      ],
      "image/png": "[encoded data removed]"
     },
     "metadata": {},
     "output_type": "display_data"
    }
   ],
   "execution_count": 65
  },
  {
   "cell_type": "code",
   "id": "68dde6c2-f344-44f2-a3c7-4b69c7774826",
   "metadata": {
    "ExecuteTime": {
     "end_time": "2025-06-12T17:37:34.555409Z",
     "start_time": "2025-06-12T17:37:34.551772Z"
    }
   },
   "source": "m_data",
   "outputs": [
    {
     "data": {
      "text/plain": [
       "    gender  weight  waist\n",
       "0      Man      60   72.1\n",
       "3      Man      70   90.8\n",
       "5      Man      85   94.0\n",
       "6      Man      80   93.0\n",
       "7      Man      65   92.0\n",
       "..     ...     ...    ...\n",
       "991    Man      60   87.0\n",
       "994    Man      65   82.0\n",
       "995    Man      70   92.0\n",
       "996    Man      70   88.0\n",
       "999    Man      60   86.0\n",
       "\n",
       "[482 rows x 3 columns]"
      ],
      "text/html": [
       "<div>\n",
       "<style scoped>\n",
       "    .dataframe tbody tr th:only-of-type {\n",
       "        vertical-align: middle;\n",
       "    }\n",
       "\n",
       "    .dataframe tbody tr th {\n",
       "        vertical-align: top;\n",
       "    }\n",
       "\n",
       "    .dataframe thead th {\n",
       "        text-align: right;\n",
       "    }\n",
       "</style>\n",
       "<table border=\"1\" class=\"dataframe\">\n",
       "  <thead>\n",
       "    <tr style=\"text-align: right;\">\n",
       "      <th></th>\n",
       "      <th>gender</th>\n",
       "      <th>weight</th>\n",
       "      <th>waist</th>\n",
       "    </tr>\n",
       "  </thead>\n",
       "  <tbody>\n",
       "    <tr>\n",
       "      <th>0</th>\n",
       "      <td>Man</td>\n",
       "      <td>60</td>\n",
       "      <td>72.1</td>\n",
       "    </tr>\n",
       "    <tr>\n",
       "      <th>3</th>\n",
       "      <td>Man</td>\n",
       "      <td>70</td>\n",
       "      <td>90.8</td>\n",
       "    </tr>\n",
       "    <tr>\n",
       "      <th>5</th>\n",
       "      <td>Man</td>\n",
       "      <td>85</td>\n",
       "      <td>94.0</td>\n",
       "    </tr>\n",
       "    <tr>\n",
       "      <th>6</th>\n",
       "      <td>Man</td>\n",
       "      <td>80</td>\n",
       "      <td>93.0</td>\n",
       "    </tr>\n",
       "    <tr>\n",
       "      <th>7</th>\n",
       "      <td>Man</td>\n",
       "      <td>65</td>\n",
       "      <td>92.0</td>\n",
       "    </tr>\n",
       "    <tr>\n",
       "      <th>...</th>\n",
       "      <td>...</td>\n",
       "      <td>...</td>\n",
       "      <td>...</td>\n",
       "    </tr>\n",
       "    <tr>\n",
       "      <th>991</th>\n",
       "      <td>Man</td>\n",
       "      <td>60</td>\n",
       "      <td>87.0</td>\n",
       "    </tr>\n",
       "    <tr>\n",
       "      <th>994</th>\n",
       "      <td>Man</td>\n",
       "      <td>65</td>\n",
       "      <td>82.0</td>\n",
       "    </tr>\n",
       "    <tr>\n",
       "      <th>995</th>\n",
       "      <td>Man</td>\n",
       "      <td>70</td>\n",
       "      <td>92.0</td>\n",
       "    </tr>\n",
       "    <tr>\n",
       "      <th>996</th>\n",
       "      <td>Man</td>\n",
       "      <td>70</td>\n",
       "      <td>88.0</td>\n",
       "    </tr>\n",
       "    <tr>\n",
       "      <th>999</th>\n",
       "      <td>Man</td>\n",
       "      <td>60</td>\n",
       "      <td>86.0</td>\n",
       "    </tr>\n",
       "  </tbody>\n",
       "</table>\n",
       "<p>482 rows × 3 columns</p>\n",
       "</div>"
      ]
     },
     "execution_count": 69,
     "metadata": {},
     "output_type": "execute_result"
    }
   ],
   "execution_count": 69
  },
  {
   "cell_type": "code",
   "id": "b3b14ceb-304b-4aff-9b97-87a7edb9da23",
   "metadata": {
    "ExecuteTime": {
     "end_time": "2025-06-12T17:42:41.660801Z",
     "start_time": "2025-06-12T17:42:41.609593Z"
    }
   },
   "source": [
    "# 히스토그램\n",
    "\n",
    "plt.figure()\n",
    "plt.title(\"matplotlib histogram graph\")\n",
    "\n",
    "plt.hist(m_data[\"weight\"], bins=7, alpha=0.5, label=\"Man\",\n",
    "         edgecolor=\"black\", color=\"blue\")\n",
    "plt.hist(w_data[\"weight\"], bins=7, alpha=0.5, label=\"Woman\",\n",
    "         edgecolor=\"black\", color=\"red\")\n",
    "\n",
    "plt.legend()\n",
    "plt.xlabel(\"weight\")\n",
    "plt.ylabel(\"count\")\n",
    "plt.grid(True)\n",
    "\n",
    "plt.show()"
   ],
   "outputs": [
    {
     "data": {
      "text/plain": [
       "<Figure size 640x480 with 1 Axes>"
      ],
      "image/png": "[encoded data removed]"
     },
     "metadata": {},
     "output_type": "display_data"
    }
   ],
   "execution_count": 77
  },
  {
   "cell_type": "code",
   "id": "625371ed-d77c-4e0b-a161-4c0e912b10e6",
   "metadata": {
    "ExecuteTime": {
     "end_time": "2025-06-12T17:42:43.139617Z",
     "start_time": "2025-06-12T17:42:43.072295Z"
    }
   },
   "source": [
    "plt.figure()\n",
    "plt.title(\"seaborn histogram graph\")\n",
    "\n",
    "# 커널 밀도 추정치 (kernel density estimate --> kde)\n",
    "sns.histplot(m_data[\"weight\"], bins=7, alpha=0.5, label='Man', color=\"blue\", kde=True)\n",
    "sns.histplot(w_data[\"weight\"], bins=7, alpha=0.5, label='Woman', color=\"red\", kde=True)\n",
    "\n",
    "plt.grid(True)\n",
    "plt.legend()\n",
    "plt.show()"
   ],
   "outputs": [
    {
     "data": {
      "text/plain": [
       "<Figure size 640x480 with 1 Axes>"
      ],
      "image/png": "[encoded data removed]"
     },
     "metadata": {},
     "output_type": "display_data"
    }
   ],
   "execution_count": 78
  },
  {
   "cell_type": "code",
   "id": "6b473fc7-3bb0-46f0-b1c2-47a04b5cafa1",
   "metadata": {
    "ExecuteTime": {
     "end_time": "2025-06-12T17:51:10.446021Z",
     "start_time": "2025-06-12T17:51:10.440982Z"
    }
   },
   "source": [
    "# 술을 마시지 않는 남성과 여성의 몸무게 df\n",
    "m_non_drink = df.loc[(df[\"drinking\"] == \"Non-drinking\") & (df[\"gender\"] == \"Man\"), \"weight\"]\n",
    "w_non_drink = df.loc[(df[\"drinking\"] == \"Non-drinking\") & (df[\"gender\"] == \"Woman\"), \"weight\"]\n",
    "\n",
    "# 술을 마시는 남성과 여성의 몸무게 df\n",
    "m_drink = df.loc[(df[\"drinking\"] == \"Drinking\") & (df[\"gender\"] == \"Man\"), \"weight\"]\n",
    "w_drink = df.loc[(df[\"drinking\"] == \"Drinking\") & (df[\"gender\"] == \"Woman\"), \"weight\"]"
   ],
   "outputs": [],
   "execution_count": 80
  },
  {
   "cell_type": "code",
   "id": "9311dd8d-e080-46d4-920d-848a8d531c8e",
   "metadata": {
    "ExecuteTime": {
     "end_time": "2025-06-12T18:00:08.657659Z",
     "start_time": "2025-06-12T18:00:08.623685Z"
    }
   },
   "source": [
    "# 상자 그래프! Boxplot --> 사분위, 중앙값, 최대/최소값\n",
    "plt.figure()\n",
    "plt.title(\"matplotlib boxplot\")\n",
    "\n",
    "plt.boxplot([m_non_drink, w_non_drink, m_drink, w_drink],\n",
    "            tick_labels=[\"Man Non-drinking\", \"Woman Non-drinking\",\n",
    "                         \"Man Drinking\", \"Woman Drinking\"])\n",
    "\n",
    "plt.ylabel(\"weight\")\n",
    "\n",
    "plt.grid(True)\n",
    "plt.show()"
   ],
   "outputs": [
    {
     "data": {
      "text/plain": [
       "<Figure size 640x480 with 1 Axes>"
      ],
      "image/png": "[encoded data removed]"
     },
     "metadata": {},
     "output_type": "display_data"
    }
   ],
   "execution_count": 81
  },
  {
   "cell_type": "code",
   "id": "0e43fc30-c249-4a2f-bd50-9a32b275111d",
   "metadata": {
    "ExecuteTime": {
     "end_time": "2025-06-12T18:02:31.690553Z",
     "start_time": "2025-06-12T18:02:31.657266Z"
    }
   },
   "source": [
    "plt.figure()\n",
    "plt.title(\"matplotlib boxplot\")\n",
    "\n",
    "plt.boxplot([m_non_drink, w_non_drink, m_drink, w_drink],\n",
    "            tick_labels=[\"Man Non-drinking\", \"Woman Non-drinking\",\n",
    "                         \"Man Drinking\", \"Woman Drinking\"],\n",
    "            vert=False)  # vertical <-- a. 수직의\n",
    "\n",
    "plt.ylabel(\"weight\")\n",
    "\n",
    "plt.grid(True)\n",
    "plt.show()"
   ],
   "outputs": [
    {
     "data": {
      "text/plain": [
       "<Figure size 640x480 with 1 Axes>"
      ],
      "image/png": "[encoded data removed]"
     },
     "metadata": {},
     "output_type": "display_data"
    }
   ],
   "execution_count": 83
  },
  {
   "cell_type": "code",
   "id": "90249b63-f8f4-48d8-8337-e2b683d5ee95",
   "metadata": {
    "ExecuteTime": {
     "end_time": "2025-06-12T18:08:04.154206Z",
     "start_time": "2025-06-12T18:08:04.103510Z"
    }
   },
   "source": [
    "plt.figure()\n",
    "plt.title(\"seaborn boxplot\")\n",
    "\n",
    "sns.boxplot(data=df, x=\"drinking\", y=\"weight\", hue=\"gender\",\n",
    "            palette=[\"blue\", \"red\"])\n",
    "\n",
    "plt.grid(True)\n",
    "plt.show()"
   ],
   "outputs": [
    {
     "data": {
      "text/plain": [
       "<Figure size 640x480 with 1 Axes>"
      ],
      "image/png": "[encoded data removed]"
     },
     "metadata": {},
     "output_type": "display_data"
    }
   ],
   "execution_count": 87
  },
  {
   "cell_type": "code",
   "id": "01c50a08-c086-456d-8ec1-3ca575ae8a18",
   "metadata": {
    "ExecuteTime": {
     "end_time": "2025-06-12T18:09:24.686118Z",
     "start_time": "2025-06-12T18:09:24.634881Z"
    }
   },
   "source": [
    "plt.figure()\n",
    "plt.title(\"seaborn boxplot\")\n",
    "\n",
    "sns.boxplot(data=df, x=\"weight\", y=\"drinking\", hue=\"gender\",\n",
    "            palette=[\"blue\", \"red\"], orient='h')  # vertical -> 수직, horizontal -> 수평\n",
    "\n",
    "plt.grid(True)\n",
    "plt.show()"
   ],
   "outputs": [
    {
     "data": {
      "text/plain": [
       "<Figure size 640x480 with 1 Axes>"
      ],
      "image/png": "[encoded data removed]"
     },
     "metadata": {},
     "output_type": "display_data"
    }
   ],
   "execution_count": 91
  },
  {
   "metadata": {},
   "cell_type": "markdown",
   "source": "> 카운트 플롯 그리기",
   "id": "fb8534024fd26701"
  },
  {
   "cell_type": "code",
   "id": "620869f2-2fb5-4618-aa60-8f9b9c01703b",
   "metadata": {
    "ExecuteTime": {
     "end_time": "2025-06-12T18:20:05.264820Z",
     "start_time": "2025-06-12T18:20:05.214169Z"
    }
   },
   "source": [
    "plt.figure()\n",
    "plt.title(\"seabron countplot\")\n",
    "\n",
    "sns.countplot(data=df, x=\"drinking\", hue=\"gender\", palette=[\"blue\", \"red\"])\n",
    "\n",
    "plt.grid(True)\n",
    "plt.show()"
   ],
   "outputs": [
    {
     "data": {
      "text/plain": [
       "<Figure size 640x480 with 1 Axes>"
      ],
      "image/png": "[encoded data removed]"
     },
     "metadata": {},
     "output_type": "display_data"
    }
   ],
   "execution_count": 95
  },
  {
   "metadata": {
    "ExecuteTime": {
     "end_time": "2025-06-12T18:20:51.008063Z",
     "start_time": "2025-06-12T18:20:50.970065Z"
    }
   },
   "cell_type": "code",
   "source": [
    "plt.figure()\n",
    "plt.title(\"seabron countplot\")\n",
    "\n",
    "sns.countplot(data=df, x=\"drinking\", hue=\"gender\", palette=[\"blue\", \"red\"] ,order=[\"Drinking\", 'Non-drinking'])\n",
    "\n",
    "plt.grid(True)\n",
    "plt.show()"
   ],
   "id": "ce7aafc0533915ba",
   "outputs": [
    {
     "data": {
      "text/plain": [
       "<Figure size 640x480 with 1 Axes>"
      ],
      "image/png": "[encoded data removed]"
     },
     "metadata": {},
     "output_type": "display_data"
    }
   ],
   "execution_count": 98
  },
  {
   "cell_type": "code",
   "execution_count": 34,
   "id": "03e45c01-e44b-47f1-96ee-4b6f24a876e3",
   "metadata": {},
   "outputs": [
    {
     "data": {
      "image/png": "[encoded data removed]",
      "text/plain": [
       "<Figure size 640x480 with 1 Axes>"
      ]
     },
     "metadata": {},
     "output_type": "display_data"
    }
   ],
   "source": [
    "plt.figure()\n",
    "plt.title(\"seabron countplot\")\n",
    "\n",
    "sns.countplot(data=df, y=\"smoking\", hue=\"gender\", palette=[\"blue\", \"red\"])\n",
    "\n",
    "plt.grid()\n",
    "plt.show()"
   ]
  },
  {
   "metadata": {},
   "cell_type": "markdown",
   "source": "> 히트맵 그리기",
   "id": "f111e5b8527768c9"
  },
  {
   "cell_type": "code",
   "id": "57c84ab2-0b69-4034-bbb1-d38a796b99fb",
   "metadata": {
    "ExecuteTime": {
     "end_time": "2025-06-12T18:34:49.714331Z",
     "start_time": "2025-06-12T18:34:49.553058Z"
    }
   },
   "source": [
    "import pandas as pd\n",
    "import numpy as np\n",
    "import matplotlib.pyplot as plt\n",
    "import seaborn as sns\n",
    "\n",
    "df = pd.read_excel(\"health_screenings.xlsx\")\n",
    "df.head(3)"
   ],
   "outputs": [
    {
     "data": {
      "text/plain": [
       "   year  city_code  gender  age_code  height  weight  waist  eye_left  \\\n",
       "0  2020         36       1         9     165      60   72.1       1.2   \n",
       "1  2020         27       2        13     150      65   81.0       0.8   \n",
       "2  2020         11       2        12     155      55   70.0       0.6   \n",
       "\n",
       "   eye_right  hear_left  ...  serum   AST   ALT   GTP  smoking  drinking  \\\n",
       "0        1.5          1  ...    1.1  21.0  27.0  21.0        1         0   \n",
       "1        0.8          1  ...    0.5  18.0  15.0  15.0        1         0   \n",
       "2        0.7          1  ...    0.7  27.0  25.0   7.0        1         0   \n",
       "\n",
       "   oral_check  dental_caries  tartar  open_date  \n",
       "0           0            NaN     NaN 2021-12-29  \n",
       "1           0            NaN     NaN 2021-12-29  \n",
       "2           0            NaN     NaN 2021-12-29  \n",
       "\n",
       "[3 rows x 30 columns]"
      ],
      "text/html": [
       "<div>\n",
       "<style scoped>\n",
       "    .dataframe tbody tr th:only-of-type {\n",
       "        vertical-align: middle;\n",
       "    }\n",
       "\n",
       "    .dataframe tbody tr th {\n",
       "        vertical-align: top;\n",
       "    }\n",
       "\n",
       "    .dataframe thead th {\n",
       "        text-align: right;\n",
       "    }\n",
       "</style>\n",
       "<table border=\"1\" class=\"dataframe\">\n",
       "  <thead>\n",
       "    <tr style=\"text-align: right;\">\n",
       "      <th></th>\n",
       "      <th>year</th>\n",
       "      <th>city_code</th>\n",
       "      <th>gender</th>\n",
       "      <th>age_code</th>\n",
       "      <th>height</th>\n",
       "      <th>weight</th>\n",
       "      <th>waist</th>\n",
       "      <th>eye_left</th>\n",
       "      <th>eye_right</th>\n",
       "      <th>hear_left</th>\n",
       "      <th>...</th>\n",
       "      <th>serum</th>\n",
       "      <th>AST</th>\n",
       "      <th>ALT</th>\n",
       "      <th>GTP</th>\n",
       "      <th>smoking</th>\n",
       "      <th>drinking</th>\n",
       "      <th>oral_check</th>\n",
       "      <th>dental_caries</th>\n",
       "      <th>tartar</th>\n",
       "      <th>open_date</th>\n",
       "    </tr>\n",
       "  </thead>\n",
       "  <tbody>\n",
       "    <tr>\n",
       "      <th>0</th>\n",
       "      <td>2020</td>\n",
       "      <td>36</td>\n",
       "      <td>1</td>\n",
       "      <td>9</td>\n",
       "      <td>165</td>\n",
       "      <td>60</td>\n",
       "      <td>72.1</td>\n",
       "      <td>1.2</td>\n",
       "      <td>1.5</td>\n",
       "      <td>1</td>\n",
       "      <td>...</td>\n",
       "      <td>1.1</td>\n",
       "      <td>21.0</td>\n",
       "      <td>27.0</td>\n",
       "      <td>21.0</td>\n",
       "      <td>1</td>\n",
       "      <td>0</td>\n",
       "      <td>0</td>\n",
       "      <td>NaN</td>\n",
       "      <td>NaN</td>\n",
       "      <td>2021-12-29</td>\n",
       "    </tr>\n",
       "    <tr>\n",
       "      <th>1</th>\n",
       "      <td>2020</td>\n",
       "      <td>27</td>\n",
       "      <td>2</td>\n",
       "      <td>13</td>\n",
       "      <td>150</td>\n",
       "      <td>65</td>\n",
       "      <td>81.0</td>\n",
       "      <td>0.8</td>\n",
       "      <td>0.8</td>\n",
       "      <td>1</td>\n",
       "      <td>...</td>\n",
       "      <td>0.5</td>\n",
       "      <td>18.0</td>\n",
       "      <td>15.0</td>\n",
       "      <td>15.0</td>\n",
       "      <td>1</td>\n",
       "      <td>0</td>\n",
       "      <td>0</td>\n",
       "      <td>NaN</td>\n",
       "      <td>NaN</td>\n",
       "      <td>2021-12-29</td>\n",
       "    </tr>\n",
       "    <tr>\n",
       "      <th>2</th>\n",
       "      <td>2020</td>\n",
       "      <td>11</td>\n",
       "      <td>2</td>\n",
       "      <td>12</td>\n",
       "      <td>155</td>\n",
       "      <td>55</td>\n",
       "      <td>70.0</td>\n",
       "      <td>0.6</td>\n",
       "      <td>0.7</td>\n",
       "      <td>1</td>\n",
       "      <td>...</td>\n",
       "      <td>0.7</td>\n",
       "      <td>27.0</td>\n",
       "      <td>25.0</td>\n",
       "      <td>7.0</td>\n",
       "      <td>1</td>\n",
       "      <td>0</td>\n",
       "      <td>0</td>\n",
       "      <td>NaN</td>\n",
       "      <td>NaN</td>\n",
       "      <td>2021-12-29</td>\n",
       "    </tr>\n",
       "  </tbody>\n",
       "</table>\n",
       "<p>3 rows × 30 columns</p>\n",
       "</div>"
      ]
     },
     "execution_count": 99,
     "metadata": {},
     "output_type": "execute_result"
    }
   ],
   "execution_count": 99
  },
  {
   "metadata": {
    "ExecuteTime": {
     "end_time": "2025-06-12T18:35:22.083075Z",
     "start_time": "2025-06-12T18:35:22.079275Z"
    }
   },
   "cell_type": "code",
   "source": "df.info()",
   "id": "ecbac204ec260026",
   "outputs": [
    {
     "name": "stdout",
     "output_type": "stream",
     "text": [
      "<class 'pandas.core.frame.DataFrame'>\n",
      "RangeIndex: 1000 entries, 0 to 999\n",
      "Data columns (total 30 columns):\n",
      " #   Column         Non-Null Count  Dtype         \n",
      "---  ------         --------------  -----         \n",
      " 0   year           1000 non-null   int64         \n",
      " 1   city_code      1000 non-null   int64         \n",
      " 2   gender         1000 non-null   int64         \n",
      " 3   age_code       1000 non-null   int64         \n",
      " 4   height         1000 non-null   int64         \n",
      " 5   weight         1000 non-null   int64         \n",
      " 6   waist          1000 non-null   float64       \n",
      " 7   eye_left       1000 non-null   float64       \n",
      " 8   eye_right      1000 non-null   float64       \n",
      " 9   hear_left      1000 non-null   int64         \n",
      " 10  hear_right     1000 non-null   int64         \n",
      " 11  systolic       991 non-null    float64       \n",
      " 12  diastolic      991 non-null    float64       \n",
      " 13  blood_sugar    991 non-null    float64       \n",
      " 14  cholesterol    401 non-null    float64       \n",
      " 15  triglycerides  401 non-null    float64       \n",
      " 16  HDL            401 non-null    float64       \n",
      " 17  LDL            394 non-null    float64       \n",
      " 18  hemoglobin     991 non-null    float64       \n",
      " 19  urine_protein  987 non-null    float64       \n",
      " 20  serum          991 non-null    float64       \n",
      " 21  AST            991 non-null    float64       \n",
      " 22  ALT            991 non-null    float64       \n",
      " 23  GTP            991 non-null    float64       \n",
      " 24  smoking        1000 non-null   int64         \n",
      " 25  drinking       1000 non-null   int64         \n",
      " 26  oral_check     1000 non-null   int64         \n",
      " 27  dental_caries  306 non-null    float64       \n",
      " 28  tartar         306 non-null    float64       \n",
      " 29  open_date      1000 non-null   datetime64[ns]\n",
      "dtypes: datetime64[ns](1), float64(18), int64(11)\n",
      "memory usage: 234.5 KB\n"
     ]
    }
   ],
   "execution_count": 100
  },
  {
   "cell_type": "code",
   "id": "40fb56a6-6897-42e4-af25-70179fd1f7ef",
   "metadata": {
    "ExecuteTime": {
     "end_time": "2025-06-12T18:37:19.876652Z",
     "start_time": "2025-06-12T18:37:19.874042Z"
    }
   },
   "source": [
    "print(df.columns)"
   ],
   "outputs": [
    {
     "name": "stdout",
     "output_type": "stream",
     "text": [
      "Index(['year', 'city_code', 'gender', 'age_code', 'height', 'weight', 'waist',\n",
      "       'eye_left', 'eye_right', 'hear_left', 'hear_right', 'systolic',\n",
      "       'diastolic', 'blood_sugar', 'cholesterol', 'triglycerides', 'HDL',\n",
      "       'LDL', 'hemoglobin', 'urine_protein', 'serum', 'AST', 'ALT', 'GTP',\n",
      "       'smoking', 'drinking', 'oral_check', 'dental_caries', 'tartar',\n",
      "       'open_date'],\n",
      "      dtype='object')\n"
     ]
    }
   ],
   "execution_count": 101
  },
  {
   "cell_type": "code",
   "id": "09e5776e-0ca0-4eba-af12-102779633c3a",
   "metadata": {
    "ExecuteTime": {
     "end_time": "2025-06-12T18:37:23.078544Z",
     "start_time": "2025-06-12T18:37:23.074159Z"
    }
   },
   "source": [
    "df3 = df.loc[:, ['gender', 'weight', 'waist']]\n",
    "df8 = df.loc[:, ['gender', 'weight', 'waist', 'cholesterol',\n",
    "                 'HDL', 'LDL', 'smoking', 'drinking']]\n",
    "df3.head(3)"
   ],
   "outputs": [
    {
     "data": {
      "text/plain": [
       "   gender  weight  waist\n",
       "0       1      60   72.1\n",
       "1       2      65   81.0\n",
       "2       2      55   70.0"
      ],
      "text/html": [
       "<div>\n",
       "<style scoped>\n",
       "    .dataframe tbody tr th:only-of-type {\n",
       "        vertical-align: middle;\n",
       "    }\n",
       "\n",
       "    .dataframe tbody tr th {\n",
       "        vertical-align: top;\n",
       "    }\n",
       "\n",
       "    .dataframe thead th {\n",
       "        text-align: right;\n",
       "    }\n",
       "</style>\n",
       "<table border=\"1\" class=\"dataframe\">\n",
       "  <thead>\n",
       "    <tr style=\"text-align: right;\">\n",
       "      <th></th>\n",
       "      <th>gender</th>\n",
       "      <th>weight</th>\n",
       "      <th>waist</th>\n",
       "    </tr>\n",
       "  </thead>\n",
       "  <tbody>\n",
       "    <tr>\n",
       "      <th>0</th>\n",
       "      <td>1</td>\n",
       "      <td>60</td>\n",
       "      <td>72.1</td>\n",
       "    </tr>\n",
       "    <tr>\n",
       "      <th>1</th>\n",
       "      <td>2</td>\n",
       "      <td>65</td>\n",
       "      <td>81.0</td>\n",
       "    </tr>\n",
       "    <tr>\n",
       "      <th>2</th>\n",
       "      <td>2</td>\n",
       "      <td>55</td>\n",
       "      <td>70.0</td>\n",
       "    </tr>\n",
       "  </tbody>\n",
       "</table>\n",
       "</div>"
      ]
     },
     "execution_count": 102,
     "metadata": {},
     "output_type": "execute_result"
    }
   ],
   "execution_count": 102
  },
  {
   "cell_type": "code",
   "id": "e539e04d-d281-4cc3-9c9e-11f5247d6322",
   "metadata": {
    "ExecuteTime": {
     "end_time": "2025-06-12T18:37:47.578039Z",
     "start_time": "2025-06-12T18:37:47.571812Z"
    }
   },
   "source": [
    "df8.tail(3)"
   ],
   "outputs": [
    {
     "data": {
      "text/plain": [
       "     gender  weight  waist  cholesterol   HDL    LDL  smoking  drinking\n",
       "997       2      55   80.2        243.0  64.0  149.0        1         1\n",
       "998       2      55   79.5        201.0  87.0   92.0        1         0\n",
       "999       1      60   86.0        269.0  63.0  173.0        2         1"
      ],
      "text/html": [
       "<div>\n",
       "<style scoped>\n",
       "    .dataframe tbody tr th:only-of-type {\n",
       "        vertical-align: middle;\n",
       "    }\n",
       "\n",
       "    .dataframe tbody tr th {\n",
       "        vertical-align: top;\n",
       "    }\n",
       "\n",
       "    .dataframe thead th {\n",
       "        text-align: right;\n",
       "    }\n",
       "</style>\n",
       "<table border=\"1\" class=\"dataframe\">\n",
       "  <thead>\n",
       "    <tr style=\"text-align: right;\">\n",
       "      <th></th>\n",
       "      <th>gender</th>\n",
       "      <th>weight</th>\n",
       "      <th>waist</th>\n",
       "      <th>cholesterol</th>\n",
       "      <th>HDL</th>\n",
       "      <th>LDL</th>\n",
       "      <th>smoking</th>\n",
       "      <th>drinking</th>\n",
       "    </tr>\n",
       "  </thead>\n",
       "  <tbody>\n",
       "    <tr>\n",
       "      <th>997</th>\n",
       "      <td>2</td>\n",
       "      <td>55</td>\n",
       "      <td>80.2</td>\n",
       "      <td>243.0</td>\n",
       "      <td>64.0</td>\n",
       "      <td>149.0</td>\n",
       "      <td>1</td>\n",
       "      <td>1</td>\n",
       "    </tr>\n",
       "    <tr>\n",
       "      <th>998</th>\n",
       "      <td>2</td>\n",
       "      <td>55</td>\n",
       "      <td>79.5</td>\n",
       "      <td>201.0</td>\n",
       "      <td>87.0</td>\n",
       "      <td>92.0</td>\n",
       "      <td>1</td>\n",
       "      <td>0</td>\n",
       "    </tr>\n",
       "    <tr>\n",
       "      <th>999</th>\n",
       "      <td>1</td>\n",
       "      <td>60</td>\n",
       "      <td>86.0</td>\n",
       "      <td>269.0</td>\n",
       "      <td>63.0</td>\n",
       "      <td>173.0</td>\n",
       "      <td>2</td>\n",
       "      <td>1</td>\n",
       "    </tr>\n",
       "  </tbody>\n",
       "</table>\n",
       "</div>"
      ]
     },
     "execution_count": 103,
     "metadata": {},
     "output_type": "execute_result"
    }
   ],
   "execution_count": 103
  },
  {
   "cell_type": "code",
   "id": "a7456c65-c58c-45cf-b6d1-2c912af01810",
   "metadata": {
    "ExecuteTime": {
     "end_time": "2025-06-12T18:44:35.796907Z",
     "start_time": "2025-06-12T18:44:35.792600Z"
    }
   },
   "source": [
    "# correlation analysis (상관 분석)\n",
    "# 두 변수 사이의 선형 관계로부터 상관 계수 값을 계산함\n",
    "df3.corr()"
   ],
   "outputs": [
    {
     "data": {
      "text/plain": [
       "          gender    weight     waist\n",
       "gender  1.000000 -0.582641 -0.431970\n",
       "weight -0.582641  1.000000  0.787645\n",
       "waist  -0.431970  0.787645  1.000000"
      ],
      "text/html": [
       "<div>\n",
       "<style scoped>\n",
       "    .dataframe tbody tr th:only-of-type {\n",
       "        vertical-align: middle;\n",
       "    }\n",
       "\n",
       "    .dataframe tbody tr th {\n",
       "        vertical-align: top;\n",
       "    }\n",
       "\n",
       "    .dataframe thead th {\n",
       "        text-align: right;\n",
       "    }\n",
       "</style>\n",
       "<table border=\"1\" class=\"dataframe\">\n",
       "  <thead>\n",
       "    <tr style=\"text-align: right;\">\n",
       "      <th></th>\n",
       "      <th>gender</th>\n",
       "      <th>weight</th>\n",
       "      <th>waist</th>\n",
       "    </tr>\n",
       "  </thead>\n",
       "  <tbody>\n",
       "    <tr>\n",
       "      <th>gender</th>\n",
       "      <td>1.000000</td>\n",
       "      <td>-0.582641</td>\n",
       "      <td>-0.431970</td>\n",
       "    </tr>\n",
       "    <tr>\n",
       "      <th>weight</th>\n",
       "      <td>-0.582641</td>\n",
       "      <td>1.000000</td>\n",
       "      <td>0.787645</td>\n",
       "    </tr>\n",
       "    <tr>\n",
       "      <th>waist</th>\n",
       "      <td>-0.431970</td>\n",
       "      <td>0.787645</td>\n",
       "      <td>1.000000</td>\n",
       "    </tr>\n",
       "  </tbody>\n",
       "</table>\n",
       "</div>"
      ]
     },
     "execution_count": 106,
     "metadata": {},
     "output_type": "execute_result"
    }
   ],
   "execution_count": 106
  },
  {
   "cell_type": "code",
   "id": "a41c0fdd-67f7-43c1-a60d-06d4e4e9734d",
   "metadata": {
    "ExecuteTime": {
     "end_time": "2025-06-12T18:55:38.561513Z",
     "start_time": "2025-06-12T18:55:38.511293Z"
    }
   },
   "source": [
    "plt.figure()\n",
    "# annotate: v. 주석을 달다 --> annotation: n. 주석\n",
    "# color map --> cmap\n",
    "sns.heatmap(data=df3.corr(), annot=True, cmap=\"Blues\")\n",
    "plt.show()"
   ],
   "outputs": [
    {
     "data": {
      "text/plain": [
       "<Figure size 640x480 with 2 Axes>"
      ],
      "image/png": "[encoded data removed]"
     },
     "metadata": {},
     "output_type": "display_data"
    }
   ],
   "execution_count": 115
  },
  {
   "metadata": {
    "ExecuteTime": {
     "end_time": "2025-06-12T18:56:58.348804Z",
     "start_time": "2025-06-12T18:56:58.222007Z"
    }
   },
   "cell_type": "code",
   "source": [
    "plt.title('heat map')\n",
    "upp_mat = np.triu(df3.corr())\n",
    "\n",
    "sns.heatmap(df3.corr(), annot=True, cmap='Blues', mask=upp_mat) # 위쪽 매트릭스를 가려라!!"
   ],
   "id": "b593d11eee2b6384",
   "outputs": [
    {
     "data": {
      "text/plain": [
       "<Axes: title={'center': 'heat map'}>"
      ]
     },
     "execution_count": 122,
     "metadata": {},
     "output_type": "execute_result"
    },
    {
     "data": {
      "text/plain": [
       "<Figure size 640x480 with 2 Axes>"
      ],
      "image/png": "[encoded data removed]"
     },
     "metadata": {},
     "output_type": "display_data"
    }
   ],
   "execution_count": 122
  },
  {
   "metadata": {},
   "cell_type": "code",
   "outputs": [],
   "execution_count": null,
   "source": "",
   "id": "9af88bc8ce1631d5"
  }
 ],
 "metadata": {
  "kernelspec": {
   "display_name": "Python 3 (ipykernel)",
   "language": "python",
   "name": "python3"
  },
  "language_info": {
   "codemirror_mode": {
    "name": "ipython",
    "version": 3
   },
   "file_extension": ".py",
   "mimetype": "text/x-python",
   "name": "python",
   "nbconvert_exporter": "python",
   "pygments_lexer": "ipython3",
   "version": "3.12.9"
  }
 },
 "nbformat": 4,
 "nbformat_minor": 5
}
