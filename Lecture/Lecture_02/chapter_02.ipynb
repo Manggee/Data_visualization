{
 "cells": [
  {
   "metadata": {},
   "cell_type": "markdown",
   "source": "### Chapter 02. 연산자 사용하기",
   "id": "24e1c60909f38a33"
  },
  {
   "metadata": {},
   "cell_type": "markdown",
   "source": "#### - 비교 연산자: if 조건문에서, '명제'로 활용함",
   "id": "51fe22bd9d76e6a0"
  },
  {
   "metadata": {
    "ExecuteTime": {
     "end_time": "2025-03-14T02:24:17.480448Z",
     "start_time": "2025-03-14T02:24:17.477406Z"
    }
   },
   "cell_type": "code",
   "source": [
    "print(11 >= 16)\n",
    "print(11 <= 16)\n",
    "print(11 == 16)\n",
    "print(25 == 25)"
   ],
   "id": "df10a969a0370ed1",
   "outputs": [
    {
     "name": "stdout",
     "output_type": "stream",
     "text": [
      "False\n",
      "True\n",
      "False\n",
      "True\n"
     ]
    }
   ],
   "execution_count": 16
  },
  {
   "metadata": {},
   "cell_type": "markdown",
   "source": "#### - 논리 연산자: and, or, not, xor, ...",
   "id": "46a505fe2e0f1a8c"
  },
  {
   "metadata": {
    "ExecuteTime": {
     "end_time": "2025-03-14T02:27:19.671441Z",
     "start_time": "2025-03-14T02:27:19.668216Z"
    }
   },
   "cell_type": "code",
   "source": [
    "# and: 논리곱, 교집합\n",
    "print((3 > 14) and (11 < 22))\n",
    "\n",
    "# or: 논리합, 합집합\n",
    "print((3 > 14) or (11 < 22))\n",
    "\n",
    "# not: 부정, 논리를 뒤집음.\n",
    "print(11 < 22)\n",
    "print(not (11 < 22))"
   ],
   "id": "7e82edf8d4e27ee5",
   "outputs": [
    {
     "name": "stdout",
     "output_type": "stream",
     "text": [
      "False\n",
      "True\n",
      "True\n",
      "False\n"
     ]
    }
   ],
   "execution_count": 19
  },
  {
   "metadata": {},
   "cell_type": "code",
   "outputs": [],
   "execution_count": null,
   "source": "",
   "id": "c1943f619de61199"
  }
 ],
 "metadata": {
  "kernelspec": {
   "display_name": "Python 3",
   "language": "python",
   "name": "python3"
  },
  "language_info": {
   "codemirror_mode": {
    "name": "ipython",
    "version": 2
   },
   "file_extension": ".py",
   "mimetype": "text/x-python",
   "name": "python",
   "nbconvert_exporter": "python",
   "pygments_lexer": "ipython2",
   "version": "2.7.6"
  }
 },
 "nbformat": 4,
 "nbformat_minor": 5
}
